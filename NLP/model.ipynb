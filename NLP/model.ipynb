{
 "cells": [
  {
   "cell_type": "code",
   "execution_count": 3,
   "metadata": {},
   "outputs": [],
   "source": [
    "import pandas as pd\n",
    "import numpy as np\n",
    "import spacy\n",
    "import re\n",
    "import string\n",
    "import pickle\n",
    "from sklearn.model_selection import train_test_split\n",
    "from sklearn.preprocessing import OrdinalEncoder\n",
    "from sklearn.preprocessing import LabelEncoder\n",
    "from sklearn import metrics\n",
    "from sklearn.feature_extraction.text import CountVectorizer, TfidfVectorizer\n",
    "from sklearn.pipeline import Pipeline\n",
    "from sklearn.ensemble import RandomForestClassifier\n",
    "from sklearn.model_selection import GridSearchCV\n",
    "import matplotlib.pyplot as plt\n",
    "\n",
    "from explore_data import *\n",
    "import seaborn as sns\n",
    "sns.set()\n",
    "\n",
    "import tensorflow as tf\n",
    "from tensorflow.python.keras import models\n",
    "from tensorflow.python.keras.layers import Dense\n",
    "from tensorflow.python.keras.layers import Dropout\n",
    "from bs4 import BeautifulSoup\n",
    "\n",
    "\n",
    "import spacy\n",
    "\n",
    "pd.set_option('display.max_rows', 200)\n",
    "pd.set_option('display.max_columns', 200)"
   ]
  },
  {
   "cell_type": "code",
   "execution_count": 85,
   "metadata": {},
   "outputs": [
    {
     "name": "stdout",
     "output_type": "stream",
     "text": [
      "(4417, 6)\n"
     ]
    },
    {
     "data": {
      "text/html": [
       "<div>\n",
       "<style scoped>\n",
       "    .dataframe tbody tr th:only-of-type {\n",
       "        vertical-align: middle;\n",
       "    }\n",
       "\n",
       "    .dataframe tbody tr th {\n",
       "        vertical-align: top;\n",
       "    }\n",
       "\n",
       "    .dataframe thead th {\n",
       "        text-align: right;\n",
       "    }\n",
       "</style>\n",
       "<table border=\"1\" class=\"dataframe\">\n",
       "  <thead>\n",
       "    <tr style=\"text-align: right;\">\n",
       "      <th></th>\n",
       "      <th>title</th>\n",
       "      <th>score</th>\n",
       "      <th>id</th>\n",
       "      <th>subreddit</th>\n",
       "      <th>num_comments</th>\n",
       "      <th>body</th>\n",
       "    </tr>\n",
       "  </thead>\n",
       "  <tbody>\n",
       "    <tr>\n",
       "      <th>0</th>\n",
       "      <td>Do we know of any diseases dinosaurs could have been infected with?</td>\n",
       "      <td>2</td>\n",
       "      <td>hcxfcd</td>\n",
       "      <td>askscience</td>\n",
       "      <td>0</td>\n",
       "      <td>I get that paleontology doesn't get much in the way of soft tissue or the ability to look at micro organisms, but I thought I'd ask.\\n\\nMaybe some of the same diseases that birds get today?</td>\n",
       "    </tr>\n",
       "    <tr>\n",
       "      <th>1</th>\n",
       "      <td>Do all animals have an internal compass? How does it work? How come humans don't have this ability?</td>\n",
       "      <td>4</td>\n",
       "      <td>hcqbk1</td>\n",
       "      <td>askscience</td>\n",
       "      <td>3</td>\n",
       "      <td>Always wondered how birds and fish never got lost whike migrating. Anyone know why?</td>\n",
       "    </tr>\n",
       "    <tr>\n",
       "      <th>2</th>\n",
       "      <td>Does a plane have to slow down after dropping a payload?</td>\n",
       "      <td>1</td>\n",
       "      <td>hcplk2</td>\n",
       "      <td>askscience</td>\n",
       "      <td>4</td>\n",
       "      <td>If a plane drops a heavy payload while in flight (nuclear bomb? idk), wouldn't a sudden imbalance in the forces propel the plane up suddenly? Then does the plane have to decelerate suddenly?</td>\n",
       "    </tr>\n",
       "    <tr>\n",
       "      <th>3</th>\n",
       "      <td>What causes the rotational speeds of planets to differ so greatly?</td>\n",
       "      <td>3</td>\n",
       "      <td>hcpqvw</td>\n",
       "      <td>askscience</td>\n",
       "      <td>7</td>\n",
       "      <td>I noticed that the rotational speeds of planets vary greatly as they get further from the Sun. Venus takes 243 days to complete one rotation while Jupiter only takes 9 hours. \\n\\nWhat are the factors that influence rotational speed of planets and why does it differ so much between the inner planets and the outer planets?</td>\n",
       "    </tr>\n",
       "    <tr>\n",
       "      <th>4</th>\n",
       "      <td>We have active cancer cells in labs that have been grown since the 50s and don't experience senescence, would it be possible to utilise this 'immortality' to grow organs?</td>\n",
       "      <td>3</td>\n",
       "      <td>hcpzjo</td>\n",
       "      <td>askscience</td>\n",
       "      <td>12</td>\n",
       "      <td>NaN</td>\n",
       "    </tr>\n",
       "  </tbody>\n",
       "</table>\n",
       "</div>"
      ],
      "text/plain": [
       "                                                                                                                                                                        title  \\\n",
       "0  Do we know of any diseases dinosaurs could have been infected with?                                                                                                          \n",
       "1  Do all animals have an internal compass? How does it work? How come humans don't have this ability?                                                                          \n",
       "2  Does a plane have to slow down after dropping a payload?                                                                                                                     \n",
       "3  What causes the rotational speeds of planets to differ so greatly?                                                                                                           \n",
       "4  We have active cancer cells in labs that have been grown since the 50s and don't experience senescence, would it be possible to utilise this 'immortality' to grow organs?   \n",
       "\n",
       "   score      id   subreddit  num_comments  \\\n",
       "0  2      hcxfcd  askscience  0              \n",
       "1  4      hcqbk1  askscience  3              \n",
       "2  1      hcplk2  askscience  4              \n",
       "3  3      hcpqvw  askscience  7              \n",
       "4  3      hcpzjo  askscience  12             \n",
       "\n",
       "                                                                                                                                                                                                                                                                                                                                 body  \n",
       "0  I get that paleontology doesn't get much in the way of soft tissue or the ability to look at micro organisms, but I thought I'd ask.\\n\\nMaybe some of the same diseases that birds get today?                                                                                                                                       \n",
       "1  Always wondered how birds and fish never got lost whike migrating. Anyone know why?                                                                                                                                                                                                                                                 \n",
       "2  If a plane drops a heavy payload while in flight (nuclear bomb? idk), wouldn't a sudden imbalance in the forces propel the plane up suddenly? Then does the plane have to decelerate suddenly?                                                                                                                                      \n",
       "3  I noticed that the rotational speeds of planets vary greatly as they get further from the Sun. Venus takes 243 days to complete one rotation while Jupiter only takes 9 hours. \\n\\nWhat are the factors that influence rotational speed of planets and why does it differ so much between the inner planets and the outer planets?  \n",
       "4  NaN                                                                                                                                                                                                                                                                                                                                 "
      ]
     },
     "execution_count": 85,
     "metadata": {},
     "output_type": "execute_result"
    }
   ],
   "source": [
    "df= pd.read_csv('final_data/api_data.csv',index_col=0)\n",
    "print(df.shape)\n",
    "df.head()"
   ]
  },
  {
   "cell_type": "code",
   "execution_count": 86,
   "metadata": {},
   "outputs": [
    {
     "data": {
      "text/html": [
       "<div>\n",
       "<style scoped>\n",
       "    .dataframe tbody tr th:only-of-type {\n",
       "        vertical-align: middle;\n",
       "    }\n",
       "\n",
       "    .dataframe tbody tr th {\n",
       "        vertical-align: top;\n",
       "    }\n",
       "\n",
       "    .dataframe thead th {\n",
       "        text-align: right;\n",
       "    }\n",
       "</style>\n",
       "<table border=\"1\" class=\"dataframe\">\n",
       "  <thead>\n",
       "    <tr style=\"text-align: right;\">\n",
       "      <th></th>\n",
       "      <th>title</th>\n",
       "      <th>score</th>\n",
       "      <th>id</th>\n",
       "      <th>subreddit</th>\n",
       "      <th>num_comments</th>\n",
       "      <th>body</th>\n",
       "    </tr>\n",
       "  </thead>\n",
       "  <tbody>\n",
       "    <tr>\n",
       "      <th>0</th>\n",
       "      <td>Having Too Much Information Can Lead Us To Make Worse Decisions</td>\n",
       "      <td>5</td>\n",
       "      <td>fvxcdc</td>\n",
       "      <td>psychology</td>\n",
       "      <td>0</td>\n",
       "      <td>NaN</td>\n",
       "    </tr>\n",
       "    <tr>\n",
       "      <th>1</th>\n",
       "      <td>Because of Rising CO2, Trees Might Be Warming the Arctic</td>\n",
       "      <td>1</td>\n",
       "      <td>gpuxcf</td>\n",
       "      <td>EverythingScience</td>\n",
       "      <td>0</td>\n",
       "      <td>NaN</td>\n",
       "    </tr>\n",
       "    <tr>\n",
       "      <th>2</th>\n",
       "      <td>Best Clustering/Grouping method to solve this problem?</td>\n",
       "      <td>2</td>\n",
       "      <td>fsxgeq</td>\n",
       "      <td>datascience</td>\n",
       "      <td>9</td>\n",
       "      <td>I want to cluster or group my data into 3 categories:-\\n- High performing companies\\n- Medium Performing companies\\n- Low Performing companies\\n\\nI have a dataset which has the company name, company rating, company turnover, Total Business transacted. \\n\\nI could probably loop through them and based on a couple conditions I could classify them in these categories but there are so many companies and so many different permutations and combinations that can be made. So I am not sure if that's the best and most efficient way.\\n\\nWill K-means clustering be a good and viable technique to use here?</td>\n",
       "    </tr>\n",
       "    <tr>\n",
       "      <th>3</th>\n",
       "      <td>Schema therapy for eating disorders : therapist reflections</td>\n",
       "      <td>2</td>\n",
       "      <td>g740pj</td>\n",
       "      <td>psychology</td>\n",
       "      <td>0</td>\n",
       "      <td>NaN</td>\n",
       "    </tr>\n",
       "    <tr>\n",
       "      <th>4</th>\n",
       "      <td>[ELI5] Why developers who projects websites still have job when there is a lot of w (mostly free) sites witch gives you templates for creating one by yourself?</td>\n",
       "      <td>0</td>\n",
       "      <td>hcwjmj</td>\n",
       "      <td>explainlikeimfive</td>\n",
       "      <td>2</td>\n",
       "      <td>NaN</td>\n",
       "    </tr>\n",
       "  </tbody>\n",
       "</table>\n",
       "</div>"
      ],
      "text/plain": [
       "                                                                                                                                                             title  \\\n",
       "0  Having Too Much Information Can Lead Us To Make Worse Decisions                                                                                                   \n",
       "1  Because of Rising CO2, Trees Might Be Warming the Arctic                                                                                                          \n",
       "2  Best Clustering/Grouping method to solve this problem?                                                                                                            \n",
       "3  Schema therapy for eating disorders : therapist reflections                                                                                                       \n",
       "4  [ELI5] Why developers who projects websites still have job when there is a lot of w (mostly free) sites witch gives you templates for creating one by yourself?   \n",
       "\n",
       "   score      id          subreddit  num_comments  \\\n",
       "0  5      fvxcdc  psychology         0              \n",
       "1  1      gpuxcf  EverythingScience  0              \n",
       "2  2      fsxgeq  datascience        9              \n",
       "3  2      g740pj  psychology         0              \n",
       "4  0      hcwjmj  explainlikeimfive  2              \n",
       "\n",
       "                                                                                                                                                                                                                                                                                                                                                                                                                                                                                                                                                                                                                     body  \n",
       "0  NaN                                                                                                                                                                                                                                                                                                                                                                                                                                                                                                                                                                                                                     \n",
       "1  NaN                                                                                                                                                                                                                                                                                                                                                                                                                                                                                                                                                                                                                     \n",
       "2  I want to cluster or group my data into 3 categories:-\\n- High performing companies\\n- Medium Performing companies\\n- Low Performing companies\\n\\nI have a dataset which has the company name, company rating, company turnover, Total Business transacted. \\n\\nI could probably loop through them and based on a couple conditions I could classify them in these categories but there are so many companies and so many different permutations and combinations that can be made. So I am not sure if that's the best and most efficient way.\\n\\nWill K-means clustering be a good and viable technique to use here?  \n",
       "3  NaN                                                                                                                                                                                                                                                                                                                                                                                                                                                                                                                                                                                                                     \n",
       "4  NaN                                                                                                                                                                                                                                                                                                                                                                                                                                                                                                                                                                                                                     "
      ]
     },
     "execution_count": 86,
     "metadata": {},
     "output_type": "execute_result"
    }
   ],
   "source": [
    "#Shuffling the data\n",
    "df = df.sample(frac=1)\n",
    "df.reset_index(drop=True, inplace=True)\n",
    "df.head()"
   ]
  },
  {
   "cell_type": "markdown",
   "metadata": {},
   "source": [
    "### Explore data"
   ]
  },
  {
   "cell_type": "code",
   "execution_count": 87,
   "metadata": {},
   "outputs": [
    {
     "data": {
      "text/plain": [
       "4355"
      ]
     },
     "execution_count": 87,
     "metadata": {},
     "output_type": "execute_result"
    }
   ],
   "source": [
    "#how many unique titles do we have?\n",
    "df['title'].nunique() "
   ]
  },
  {
   "cell_type": "markdown",
   "metadata": {},
   "source": [
    "There are 62 duplicate titles in this dataset"
   ]
  },
  {
   "cell_type": "code",
   "execution_count": 88,
   "metadata": {},
   "outputs": [
    {
     "data": {
      "text/plain": [
       "5"
      ]
     },
     "execution_count": 88,
     "metadata": {},
     "output_type": "execute_result"
    }
   ],
   "source": [
    "#how many unique subreddits do we have?\n",
    "df['subreddit'].nunique() "
   ]
  },
  {
   "cell_type": "code",
   "execution_count": 89,
   "metadata": {},
   "outputs": [
    {
     "data": {
      "text/plain": [
       "52"
      ]
     },
     "execution_count": 89,
     "metadata": {},
     "output_type": "execute_result"
    }
   ],
   "source": [
    "df[['title', 'subreddit']].duplicated().sum()"
   ]
  },
  {
   "cell_type": "code",
   "execution_count": 9,
   "metadata": {},
   "outputs": [
    {
     "data": {
      "text/plain": [
       "explainlikeimfive    991\n",
       "EverythingScience    961\n",
       "psychology           862\n",
       "datascience          821\n",
       "askscience           730\n",
       "Name: subreddit, dtype: int64"
      ]
     },
     "execution_count": 9,
     "metadata": {},
     "output_type": "execute_result"
    }
   ],
   "source": [
    "#dropping those uplicate\n",
    "df.drop_duplicates(subset=['title', 'subreddit'], keep='last', inplace=True)\n",
    "\n",
    "# distribution of target\n",
    "df['subreddit'].value_counts()"
   ]
  },
  {
   "cell_type": "code",
   "execution_count": 10,
   "metadata": {},
   "outputs": [
    {
     "data": {
      "text/plain": [
       "title              0\n",
       "score              0\n",
       "id                 0\n",
       "subreddit          0\n",
       "num_comments       0\n",
       "body            2646\n",
       "dtype: int64"
      ]
     },
     "execution_count": 10,
     "metadata": {},
     "output_type": "execute_result"
    }
   ],
   "source": [
    "# Check for nulls\n",
    "df.isnull().sum()"
   ]
  },
  {
   "cell_type": "code",
   "execution_count": 11,
   "metadata": {},
   "outputs": [
    {
     "data": {
      "text/html": [
       "<div>\n",
       "<style scoped>\n",
       "    .dataframe tbody tr th:only-of-type {\n",
       "        vertical-align: middle;\n",
       "    }\n",
       "\n",
       "    .dataframe tbody tr th {\n",
       "        vertical-align: top;\n",
       "    }\n",
       "\n",
       "    .dataframe thead th {\n",
       "        text-align: right;\n",
       "    }\n",
       "</style>\n",
       "<table border=\"1\" class=\"dataframe\">\n",
       "  <thead>\n",
       "    <tr style=\"text-align: right;\">\n",
       "      <th></th>\n",
       "      <th>title</th>\n",
       "      <th>score</th>\n",
       "      <th>id</th>\n",
       "      <th>subreddit</th>\n",
       "      <th>num_comments</th>\n",
       "      <th>body</th>\n",
       "    </tr>\n",
       "  </thead>\n",
       "  <tbody>\n",
       "    <tr>\n",
       "      <th>0</th>\n",
       "      <td>UAE's first Mars mission 'to launch within weeks'</td>\n",
       "      <td>3</td>\n",
       "      <td>gzkixo</td>\n",
       "      <td>EverythingScience</td>\n",
       "      <td>0</td>\n",
       "      <td>NaN</td>\n",
       "    </tr>\n",
       "    <tr>\n",
       "      <th>1</th>\n",
       "      <td>Lunar Eclipse to be visible in these parts of ...</td>\n",
       "      <td>3</td>\n",
       "      <td>gwo86v</td>\n",
       "      <td>EverythingScience</td>\n",
       "      <td>2</td>\n",
       "      <td>NaN</td>\n",
       "    </tr>\n",
       "    <tr>\n",
       "      <th>3</th>\n",
       "      <td>Because of Rising CO2, Trees Might Be Warming ...</td>\n",
       "      <td>1</td>\n",
       "      <td>gpuxcf</td>\n",
       "      <td>EverythingScience</td>\n",
       "      <td>0</td>\n",
       "      <td>NaN</td>\n",
       "    </tr>\n",
       "    <tr>\n",
       "      <th>4</th>\n",
       "      <td>7 Things Russia's New Super Rocket and NASA's ...</td>\n",
       "      <td>2</td>\n",
       "      <td>h7y163</td>\n",
       "      <td>EverythingScience</td>\n",
       "      <td>0</td>\n",
       "      <td>NaN</td>\n",
       "    </tr>\n",
       "    <tr>\n",
       "      <th>5</th>\n",
       "      <td>The World’s Biggest Study on Loneliness</td>\n",
       "      <td>1</td>\n",
       "      <td>h07zm4</td>\n",
       "      <td>EverythingScience</td>\n",
       "      <td>0</td>\n",
       "      <td>NaN</td>\n",
       "    </tr>\n",
       "    <tr>\n",
       "      <th>...</th>\n",
       "      <td>...</td>\n",
       "      <td>...</td>\n",
       "      <td>...</td>\n",
       "      <td>...</td>\n",
       "      <td>...</td>\n",
       "      <td>...</td>\n",
       "    </tr>\n",
       "    <tr>\n",
       "      <th>4408</th>\n",
       "      <td>ELI5: How did the English language become as g...</td>\n",
       "      <td>5</td>\n",
       "      <td>hbj86x</td>\n",
       "      <td>explainlikeimfive</td>\n",
       "      <td>9</td>\n",
       "      <td>NaN</td>\n",
       "    </tr>\n",
       "    <tr>\n",
       "      <th>4411</th>\n",
       "      <td>Experiment shows human speech generates drople...</td>\n",
       "      <td>49</td>\n",
       "      <td>gjr2tl</td>\n",
       "      <td>EverythingScience</td>\n",
       "      <td>1</td>\n",
       "      <td>NaN</td>\n",
       "    </tr>\n",
       "    <tr>\n",
       "      <th>4412</th>\n",
       "      <td>Effects of internet CBT for health anxiety on ...</td>\n",
       "      <td>5</td>\n",
       "      <td>gj1raj</td>\n",
       "      <td>psychology</td>\n",
       "      <td>2</td>\n",
       "      <td>NaN</td>\n",
       "    </tr>\n",
       "    <tr>\n",
       "      <th>4413</th>\n",
       "      <td>MicroCT takes an amazing deep look inside the ...</td>\n",
       "      <td>1</td>\n",
       "      <td>ha79ny</td>\n",
       "      <td>EverythingScience</td>\n",
       "      <td>0</td>\n",
       "      <td>NaN</td>\n",
       "    </tr>\n",
       "    <tr>\n",
       "      <th>4414</th>\n",
       "      <td>Open csv Ontario COVID-19 data</td>\n",
       "      <td>2</td>\n",
       "      <td>fle8u5</td>\n",
       "      <td>datascience</td>\n",
       "      <td>1</td>\n",
       "      <td>NaN</td>\n",
       "    </tr>\n",
       "  </tbody>\n",
       "</table>\n",
       "<p>2646 rows × 6 columns</p>\n",
       "</div>"
      ],
      "text/plain": [
       "                                                  title  score      id  \\\n",
       "0     UAE's first Mars mission 'to launch within weeks'      3  gzkixo   \n",
       "1     Lunar Eclipse to be visible in these parts of ...      3  gwo86v   \n",
       "3     Because of Rising CO2, Trees Might Be Warming ...      1  gpuxcf   \n",
       "4     7 Things Russia's New Super Rocket and NASA's ...      2  h7y163   \n",
       "5               The World’s Biggest Study on Loneliness      1  h07zm4   \n",
       "...                                                 ...    ...     ...   \n",
       "4408  ELI5: How did the English language become as g...      5  hbj86x   \n",
       "4411  Experiment shows human speech generates drople...     49  gjr2tl   \n",
       "4412  Effects of internet CBT for health anxiety on ...      5  gj1raj   \n",
       "4413  MicroCT takes an amazing deep look inside the ...      1  ha79ny   \n",
       "4414                     Open csv Ontario COVID-19 data      2  fle8u5   \n",
       "\n",
       "              subreddit  num_comments body  \n",
       "0     EverythingScience             0  NaN  \n",
       "1     EverythingScience             2  NaN  \n",
       "3     EverythingScience             0  NaN  \n",
       "4     EverythingScience             0  NaN  \n",
       "5     EverythingScience             0  NaN  \n",
       "...                 ...           ...  ...  \n",
       "4408  explainlikeimfive             9  NaN  \n",
       "4411  EverythingScience             1  NaN  \n",
       "4412         psychology             2  NaN  \n",
       "4413  EverythingScience             0  NaN  \n",
       "4414        datascience             1  NaN  \n",
       "\n",
       "[2646 rows x 6 columns]"
      ]
     },
     "execution_count": 11,
     "metadata": {},
     "output_type": "execute_result"
    }
   ],
   "source": [
    "# Examine rows with null texts\n",
    "df[df.body.isnull()]"
   ]
  },
  {
   "cell_type": "code",
   "execution_count": 12,
   "metadata": {},
   "outputs": [],
   "source": [
    "# Replace null texts with empty string\n",
    "df.body.fillna(value='', inplace=True)"
   ]
  },
  {
   "cell_type": "code",
   "execution_count": 13,
   "metadata": {},
   "outputs": [],
   "source": [
    "# Put titles and texts into a single column.\n",
    "df['text'] = df['title'] + ' ' + df['body']"
   ]
  },
  {
   "cell_type": "code",
   "execution_count": 14,
   "metadata": {},
   "outputs": [
    {
     "name": "stdout",
     "output_type": "stream",
     "text": [
      "(4365, 5)\n"
     ]
    },
    {
     "data": {
      "text/html": [
       "<div>\n",
       "<style scoped>\n",
       "    .dataframe tbody tr th:only-of-type {\n",
       "        vertical-align: middle;\n",
       "    }\n",
       "\n",
       "    .dataframe tbody tr th {\n",
       "        vertical-align: top;\n",
       "    }\n",
       "\n",
       "    .dataframe thead th {\n",
       "        text-align: right;\n",
       "    }\n",
       "</style>\n",
       "<table border=\"1\" class=\"dataframe\">\n",
       "  <thead>\n",
       "    <tr style=\"text-align: right;\">\n",
       "      <th></th>\n",
       "      <th>text</th>\n",
       "      <th>score</th>\n",
       "      <th>id</th>\n",
       "      <th>subreddit</th>\n",
       "      <th>num_comments</th>\n",
       "    </tr>\n",
       "  </thead>\n",
       "  <tbody>\n",
       "    <tr>\n",
       "      <th>0</th>\n",
       "      <td>UAE's first Mars mission 'to launch within wee...</td>\n",
       "      <td>3</td>\n",
       "      <td>gzkixo</td>\n",
       "      <td>EverythingScience</td>\n",
       "      <td>0</td>\n",
       "    </tr>\n",
       "    <tr>\n",
       "      <th>1</th>\n",
       "      <td>Lunar Eclipse to be visible in these parts of ...</td>\n",
       "      <td>3</td>\n",
       "      <td>gwo86v</td>\n",
       "      <td>EverythingScience</td>\n",
       "      <td>2</td>\n",
       "    </tr>\n",
       "    <tr>\n",
       "      <th>2</th>\n",
       "      <td>eli5: Boron in pea protein powders? Since peas...</td>\n",
       "      <td>1</td>\n",
       "      <td>hbplru</td>\n",
       "      <td>explainlikeimfive</td>\n",
       "      <td>1</td>\n",
       "    </tr>\n",
       "    <tr>\n",
       "      <th>3</th>\n",
       "      <td>Because of Rising CO2, Trees Might Be Warming ...</td>\n",
       "      <td>1</td>\n",
       "      <td>gpuxcf</td>\n",
       "      <td>EverythingScience</td>\n",
       "      <td>0</td>\n",
       "    </tr>\n",
       "    <tr>\n",
       "      <th>4</th>\n",
       "      <td>7 Things Russia's New Super Rocket and NASA's ...</td>\n",
       "      <td>2</td>\n",
       "      <td>h7y163</td>\n",
       "      <td>EverythingScience</td>\n",
       "      <td>0</td>\n",
       "    </tr>\n",
       "  </tbody>\n",
       "</table>\n",
       "</div>"
      ],
      "text/plain": [
       "                                                text  score      id  \\\n",
       "0  UAE's first Mars mission 'to launch within wee...      3  gzkixo   \n",
       "1  Lunar Eclipse to be visible in these parts of ...      3  gwo86v   \n",
       "2  eli5: Boron in pea protein powders? Since peas...      1  hbplru   \n",
       "3  Because of Rising CO2, Trees Might Be Warming ...      1  gpuxcf   \n",
       "4  7 Things Russia's New Super Rocket and NASA's ...      2  h7y163   \n",
       "\n",
       "           subreddit  num_comments  \n",
       "0  EverythingScience             0  \n",
       "1  EverythingScience             2  \n",
       "2  explainlikeimfive             1  \n",
       "3  EverythingScience             0  \n",
       "4  EverythingScience             0  "
      ]
     },
     "execution_count": 14,
     "metadata": {},
     "output_type": "execute_result"
    }
   ],
   "source": [
    "df = df[['text', 'score', 'id', 'subreddit','num_comments']]\n",
    "print(df.shape)\n",
    "df.head()"
   ]
  },
  {
   "cell_type": "code",
   "execution_count": 15,
   "metadata": {},
   "outputs": [
    {
     "data": {
      "text/plain": [
       "2514    How important is title? Would you consider it a \"step down\" to go from Data Scientist to Senior Analyst/Product Analyst?                                                                                                                                                                                                                                                                                                                                                                                                                                                                                                                                                                                                                                                                                                                                                                                                                                                                                                                                                                                                                                                                                                                                              \n",
       "821     Masters Degree or Old Stressful Job Hello all, I got laid off from a Data Quality Assurance job due to covid at the beginning of April, and I was accepted into an applied data science masters program at USC (University of Southern California) during this time off. The pay was good at the job, but I was extremely stressed out and didn’t receive overtime on days I would work extra. I was only there for 3 months, and now they’re asking me to come back. Do you think I should pursue a masters (2 year program) at $70K tuition or accept the offer again which pays 75k?\\n\\nBackground: I graduated in January of 2019 and have about 1.5 years of data ANALYST experience under my belt so far.\\n\\nThanks in advance!\\n\\nEdit: I should also note that this is without FAFSA considered as I haven’t received notice yet. \\nI have experience in Power BI, SQL, Python, and Excel which are all fine for data analyst roles, but my question would be is experience enough to get me from an analyst position to a scientist position?\\nThe USC program focuses on Machine Learning and Webscraping, as well as Hadoop/MapReduce/Spark. \\nI have a bachelors in Business Analytics if that matters.\\nAppreciate the input from everyone so far as well\n",
       "1647    Life itself is a datascience! Constantly predicting the next move                                                                                                                                                                                                                                                                                                                                                                                                                                                                                                                                                                                                                                                                                                                                                                                                                                                                                                                                                                                                                                                                                                                                                                                                     \n",
       "Name: text, dtype: object"
      ]
     },
     "execution_count": 15,
     "metadata": {},
     "output_type": "execute_result"
    }
   ],
   "source": [
    "#read few samples from data science subreddit\n",
    "pd.set_option('display.max_colwidth', 0)\n",
    "df[df['subreddit']=='datascience']['text'].sample(3)"
   ]
  },
  {
   "cell_type": "code",
   "execution_count": 16,
   "metadata": {},
   "outputs": [
    {
     "data": {
      "text/plain": [
       "429     Does this article from 1971 and the studies cited about homosexuality sound antiquated/outdated from the point of view of 2020 Psychology? Or is it largely correct? Does it read politically incorrect from today's point of view? \n",
       "2561    How to help young children regulate their emotions and behaviors during the pandemic                                                                                                                                                \n",
       "1194    Exploring the link between education and climate change                                                                                                                                                                             \n",
       "Name: text, dtype: object"
      ]
     },
     "execution_count": 16,
     "metadata": {},
     "output_type": "execute_result"
    }
   ],
   "source": [
    "#read few samples from data science subreddit\n",
    "pd.set_option('display.max_colwidth', 0)\n",
    "df[df['subreddit']=='psychology']['text'].sample(3)"
   ]
  },
  {
   "cell_type": "code",
   "execution_count": 17,
   "metadata": {},
   "outputs": [
    {
     "name": "stdout",
     "output_type": "stream",
     "text": [
      "No. of  Samples: 4365\n"
     ]
    }
   ],
   "source": [
    "# No.of sample in the dataset\n",
    "print(f'No. of  Samples: {df.shape[0]}')"
   ]
  },
  {
   "cell_type": "code",
   "execution_count": 18,
   "metadata": {},
   "outputs": [
    {
     "name": "stdout",
     "output_type": "stream",
     "text": [
      "Median words per sample: 23.0\n"
     ]
    }
   ],
   "source": [
    "median_words_per_sample = get_num_words_per_sample(df['text'].values)\n",
    "print(f'Median words per sample: {median_words_per_sample}')"
   ]
  },
  {
   "cell_type": "code",
   "execution_count": 19,
   "metadata": {},
   "outputs": [
    {
     "data": {
      "image/png": "[encoded data removed]",
      "text/plain": [
       "<Figure size 432x288 with 1 Axes>"
      ]
     },
     "metadata": {},
     "output_type": "display_data"
    }
   ],
   "source": [
    "plot_sample_length_distribution(df['text'].values)"
   ]
  },
  {
   "cell_type": "code",
   "execution_count": 20,
   "metadata": {},
   "outputs": [
    {
     "data": {
      "image/png": "[encoded data removed]",
      "text/plain": [
       "<Figure size 1008x432 with 1 Axes>"
      ]
     },
     "metadata": {},
     "output_type": "display_data"
    }
   ],
   "source": [
    "#Distribution showing the frequency (number of occurrences) of each word in the dataset.\n",
    "\n",
    "plot_frequency_distribution_of_ngrams(df['text'].values,\n",
    "                                      ngram_range=(1, 2),\n",
    "                                      num_ngrams=50)"
   ]
  },
  {
   "cell_type": "code",
   "execution_count": 21,
   "metadata": {},
   "outputs": [
    {
     "name": "stdout",
     "output_type": "stream",
     "text": [
      "Number of Samples / Median Words per Sample ratio: 189\n"
     ]
    }
   ],
   "source": [
    "sw_ratio = df.shape[0] / median_words_per_sample\n",
    "print(f'Number of Samples / Median Words per Sample ratio: {int(sw_ratio)}')"
   ]
  },
  {
   "cell_type": "markdown",
   "metadata": {},
   "source": [
    "### Explore Text"
   ]
  },
  {
   "cell_type": "code",
   "execution_count": 22,
   "metadata": {},
   "outputs": [
    {
     "data": {
      "text/html": [
       "<div>\n",
       "<style scoped>\n",
       "    .dataframe tbody tr th:only-of-type {\n",
       "        vertical-align: middle;\n",
       "    }\n",
       "\n",
       "    .dataframe tbody tr th {\n",
       "        vertical-align: top;\n",
       "    }\n",
       "\n",
       "    .dataframe thead th {\n",
       "        text-align: right;\n",
       "    }\n",
       "</style>\n",
       "<table border=\"1\" class=\"dataframe\">\n",
       "  <thead>\n",
       "    <tr style=\"text-align: right;\">\n",
       "      <th></th>\n",
       "      <th>text</th>\n",
       "    </tr>\n",
       "  </thead>\n",
       "  <tbody>\n",
       "    <tr>\n",
       "      <th>Has Twitter just had its saddest fortnight ever? - \"A tool that quantifies global happiness on social media recorded an unprecedented dip in mood starting in May.\"</th>\n",
       "      <td>2</td>\n",
       "    </tr>\n",
       "    <tr>\n",
       "      <th>Women perform better on math and verbal tests at higher temperatures while men perform better at lower temperatures, according to a laboratory study on German students. The research also found that the gain in cognitive performance for women is higher than the loss in men’s as the temperature rises.</th>\n",
       "      <td>2</td>\n",
       "    </tr>\n",
       "    <tr>\n",
       "      <th>Young people with early psychosis may not require antipsychotic medications to recover</th>\n",
       "      <td>2</td>\n",
       "    </tr>\n",
       "    <tr>\n",
       "      <th>Awessssommmeee! Stretchable Words Make Language More Emotive - The latest research (2020) on stretched words by Tyler Gray and colleagues at the University of Vermont is the most comprehensive study to date that uses big data to analyze how people use stretched words on a social media platform.</th>\n",
       "      <td>2</td>\n",
       "    </tr>\n",
       "    <tr>\n",
       "      <th>\"Shouting\" and spelling mistakes add together to make online health information appear doubly less trustworthy</th>\n",
       "      <td>2</td>\n",
       "    </tr>\n",
       "    <tr>\n",
       "      <th>...</th>\n",
       "      <td>...</td>\n",
       "    </tr>\n",
       "    <tr>\n",
       "      <th>Life itself is a datascience! Constantly predicting the next move</th>\n",
       "      <td>1</td>\n",
       "    </tr>\n",
       "    <tr>\n",
       "      <th>This Is How You Live When the World Falls Apart: The Great Alaska Earthquake of 1964 surprised everyone by showing that natural disasters can bring out more kindness than selfishness.</th>\n",
       "      <td>1</td>\n",
       "    </tr>\n",
       "    <tr>\n",
       "      <th>Wildlife territorial behavior could play larger role in disease spread than thought</th>\n",
       "      <td>1</td>\n",
       "    </tr>\n",
       "    <tr>\n",
       "      <th>To find brain connectivity differnces in groups, most of people uses the Network based statistics of Zalesky, we published and method which instead of t-test is using sparsity. 1. Feedback is wolcome. 2. Do you think we have solved the issue of finding differences in connectivity?</th>\n",
       "      <td>1</td>\n",
       "    </tr>\n",
       "    <tr>\n",
       "      <th>What do they mean when they say the heat capacity of a black hole is negative? What the hell. Negative heat capacity? That's a thing?</th>\n",
       "      <td>1</td>\n",
       "    </tr>\n",
       "  </tbody>\n",
       "</table>\n",
       "<p>4355 rows × 1 columns</p>\n",
       "</div>"
      ],
      "text/plain": [
       "                                                                                                                                                                                                                                                                                                               text\n",
       "Has Twitter just had its saddest fortnight ever? - \"A tool that quantifies global happiness on social media recorded an unprecedented dip in mood starting in May.\"                                                                                                                                            2   \n",
       "Women perform better on math and verbal tests at higher temperatures while men perform better at lower temperatures, according to a laboratory study on German students. The research also found that the gain in cognitive performance for women is higher than the loss in men’s as the temperature rises.   2   \n",
       "Young people with early psychosis may not require antipsychotic medications to recover                                                                                                                                                                                                                         2   \n",
       "Awessssommmeee! Stretchable Words Make Language More Emotive - The latest research (2020) on stretched words by Tyler Gray and colleagues at the University of Vermont is the most comprehensive study to date that uses big data to analyze how people use stretched words on a social media platform.        2   \n",
       "\"Shouting\" and spelling mistakes add together to make online health information appear doubly less trustworthy                                                                                                                                                                                                 2   \n",
       "...                                                                                                                                                                                                                                                                                                           ..   \n",
       "Life itself is a datascience! Constantly predicting the next move                                                                                                                                                                                                                                              1   \n",
       "This Is How You Live When the World Falls Apart: The Great Alaska Earthquake of 1964 surprised everyone by showing that natural disasters can bring out more kindness than selfishness.                                                                                                                        1   \n",
       "Wildlife territorial behavior could play larger role in disease spread than thought                                                                                                                                                                                                                            1   \n",
       "To find brain connectivity differnces in groups, most of people uses the Network based statistics of Zalesky, we published and method which instead of t-test is using sparsity. 1. Feedback is wolcome. 2. Do you think we have solved the issue of finding differences in connectivity?                      1   \n",
       "What do they mean when they say the heat capacity of a black hole is negative? What the hell. Negative heat capacity? That's a thing?                                                                                                                                                                          1   \n",
       "\n",
       "[4355 rows x 1 columns]"
      ]
     },
     "execution_count": 22,
     "metadata": {},
     "output_type": "execute_result"
    }
   ],
   "source": [
    "df['text'].value_counts().to_frame()"
   ]
  },
  {
   "cell_type": "code",
   "execution_count": 23,
   "metadata": {},
   "outputs": [],
   "source": [
    "import re\n",
    "import nltk\n",
    "import pandas as pd\n",
    "from nltk.stem import PorterStemmer\n",
    " \n",
    "def my_preprocessor(text):\n",
    "    \n",
    "    text=text.lower() \n",
    "    text=re.sub(\"\\\\W\",\" \",text) # remove special chars\n",
    "    \n",
    "    #remove tags\n",
    "    text=re.sub(\"<!--?.*?-->\",\"\",text)\n",
    "    text=re.sub(\"\\\\s+(in|the|all|for|and|on)\\\\s+\",\"\",text) # normalize certain words\n",
    "    # remove special characters and digits\n",
    "    text=re.sub(\"(\\\\d|\\\\W|\\\\n)+\",\" \",text)\n",
    "    \n",
    "    return text"
   ]
  },
  {
   "cell_type": "code",
   "execution_count": 24,
   "metadata": {},
   "outputs": [
    {
     "data": {
      "text/html": [
       "<div>\n",
       "<style scoped>\n",
       "    .dataframe tbody tr th:only-of-type {\n",
       "        vertical-align: middle;\n",
       "    }\n",
       "\n",
       "    .dataframe tbody tr th {\n",
       "        vertical-align: top;\n",
       "    }\n",
       "\n",
       "    .dataframe thead th {\n",
       "        text-align: right;\n",
       "    }\n",
       "</style>\n",
       "<table border=\"1\" class=\"dataframe\">\n",
       "  <thead>\n",
       "    <tr style=\"text-align: right;\">\n",
       "      <th></th>\n",
       "      <th>text</th>\n",
       "      <th>clean_text</th>\n",
       "    </tr>\n",
       "  </thead>\n",
       "  <tbody>\n",
       "    <tr>\n",
       "      <th>2713</th>\n",
       "      <td>ELI5: how can laughing bring us to tears?</td>\n",
       "      <td>eli how can laughing bring us to tears</td>\n",
       "    </tr>\n",
       "    <tr>\n",
       "      <th>4323</th>\n",
       "      <td>Exotic, fifth state of matter created on the space station</td>\n",
       "      <td>exotic fifth state of matter createdthe space station</td>\n",
       "    </tr>\n",
       "    <tr>\n",
       "      <th>1764</th>\n",
       "      <td>We think that we will choose our personal and professional advisors based on reasoned criteria about their expertise, competence and experience. In practice, we go more with our gut than our head, choosing the person who shows enthusiasm for us and our goals.</td>\n",
       "      <td>we think that we will choose our personalprofessional advisors basedreasoned criteria about their expertise competenceexperiencepractice we go more with our gut than our head choosingperson who shows enthusiasmusour goals</td>\n",
       "    </tr>\n",
       "    <tr>\n",
       "      <th>3063</th>\n",
       "      <td>ELI5 how do they do those one way windows? Where you can see only from one side.</td>\n",
       "      <td>eli how do they do those one way windows where you can see only from one side</td>\n",
       "    </tr>\n",
       "    <tr>\n",
       "      <th>4164</th>\n",
       "      <td>Why does peritoneal dialysis have to be done much more often (4 times a day) compared to haemodialysis (a few times a week)?</td>\n",
       "      <td>why does peritoneal dialysis have to be done much more often times a day compared to haemodialysis a few times a week</td>\n",
       "    </tr>\n",
       "  </tbody>\n",
       "</table>\n",
       "</div>"
      ],
      "text/plain": [
       "                                                                                                                                                                                                                                                                      text  \\\n",
       "2713  ELI5: how can laughing bring us to tears?                                                                                                                                                                                                                              \n",
       "4323  Exotic, fifth state of matter created on the space station                                                                                                                                                                                                             \n",
       "1764  We think that we will choose our personal and professional advisors based on reasoned criteria about their expertise, competence and experience. In practice, we go more with our gut than our head, choosing the person who shows enthusiasm for us and our goals.    \n",
       "3063  ELI5 how do they do those one way windows? Where you can see only from one side.                                                                                                                                                                                       \n",
       "4164  Why does peritoneal dialysis have to be done much more often (4 times a day) compared to haemodialysis (a few times a week)?                                                                                                                                           \n",
       "\n",
       "                                                                                                                                                                                                                          clean_text  \n",
       "2713  eli how can laughing bring us to tears                                                                                                                                                                                          \n",
       "4323  exotic fifth state of matter createdthe space station                                                                                                                                                                           \n",
       "1764  we think that we will choose our personalprofessional advisors basedreasoned criteria about their expertise competenceexperiencepractice we go more with our gut than our head choosingperson who shows enthusiasmusour goals   \n",
       "3063  eli how do they do those one way windows where you can see only from one side                                                                                                                                                   \n",
       "4164  why does peritoneal dialysis have to be done much more often times a day compared to haemodialysis a few times a week                                                                                                           "
      ]
     },
     "execution_count": 24,
     "metadata": {},
     "output_type": "execute_result"
    }
   ],
   "source": [
    "df['clean_text'] = df['text'].apply(my_preprocessor)\n",
    "df[['text', 'clean_text']].sample(5)"
   ]
  },
  {
   "cell_type": "code",
   "execution_count": 25,
   "metadata": {},
   "outputs": [
    {
     "data": {
      "text/plain": [
       "['EverythingScience',\n",
       " 'askscience',\n",
       " 'datascience',\n",
       " 'explainlikeimfive',\n",
       " 'psychology']"
      ]
     },
     "execution_count": 25,
     "metadata": {},
     "output_type": "execute_result"
    }
   ],
   "source": [
    "# transform target variable\n",
    "encoder = LabelEncoder()\n",
    "encoder.fit(df['subreddit'])\n",
    "y = encoder.transform(df['subreddit'])\n",
    "list(encoder.classes_)"
   ]
  },
  {
   "cell_type": "markdown",
   "metadata": {},
   "source": [
    "### Build a Baseline TF-IDF Model"
   ]
  },
  {
   "cell_type": "code",
   "execution_count": 26,
   "metadata": {},
   "outputs": [
    {
     "data": {
      "text/plain": [
       "((3492,), (873,), (3492,), (873,))"
      ]
     },
     "execution_count": 26,
     "metadata": {},
     "output_type": "execute_result"
    }
   ],
   "source": [
    "# Train/Test split before creating features\n",
    "X_train, X_test, y_train, y_test= train_test_split(df['clean_text'], y,test_size = 0.2, random_state= 42, stratify= df['subreddit'])\n",
    "X_train.shape, X_test.shape, y_train.shape, y_test.shape"
   ]
  },
  {
   "cell_type": "code",
   "execution_count": 32,
   "metadata": {},
   "outputs": [],
   "source": [
    "#create pipline\n",
    "vect = TfidfVectorizer(stop_words='english', \n",
    "                       ngram_range=(1,2),\n",
    "                       min_df=2, \n",
    "                       max_df=0.75,\n",
    "                       max_features=20000)\n",
    "RF_model = RandomForestClassifier()"
   ]
  },
  {
   "cell_type": "code",
   "execution_count": 28,
   "metadata": {},
   "outputs": [
    {
     "name": "stdout",
     "output_type": "stream",
     "text": [
      "(3492, 9526)\n"
     ]
    },
    {
     "data": {
      "text/html": [
       "<div>\n",
       "<style scoped>\n",
       "    .dataframe tbody tr th:only-of-type {\n",
       "        vertical-align: middle;\n",
       "    }\n",
       "\n",
       "    .dataframe tbody tr th {\n",
       "        vertical-align: top;\n",
       "    }\n",
       "\n",
       "    .dataframe thead th {\n",
       "        text-align: right;\n",
       "    }\n",
       "</style>\n",
       "<table border=\"1\" class=\"dataframe\">\n",
       "  <thead>\n",
       "    <tr style=\"text-align: right;\">\n",
       "      <th></th>\n",
       "      <th>_and</th>\n",
       "      <th>_and _share</th>\n",
       "      <th>_bleep</th>\n",
       "      <th>_bleep bloop_</th>\n",
       "      <th>_content</th>\n",
       "      <th>_data</th>\n",
       "      <th>_data _reports</th>\n",
       "      <th>_do</th>\n",
       "      <th>_do _you</th>\n",
       "      <th>_link</th>\n",
       "      <th>_link sk</th>\n",
       "      <th>_matrix</th>\n",
       "      <th>_reports</th>\n",
       "      <th>_reports https</th>\n",
       "      <th>_share</th>\n",
       "      <th>_share _your</th>\n",
       "      <th>_track</th>\n",
       "      <th>_track _and</th>\n",
       "      <th>_you</th>\n",
       "      <th>_you _track</th>\n",
       "      <th>_your</th>\n",
       "      <th>_your _data</th>\n",
       "      <th>aa</th>\n",
       "      <th>ab</th>\n",
       "      <th>abilities</th>\n",
       "      <th>ability</th>\n",
       "      <th>ability dependthe</th>\n",
       "      <th>abit</th>\n",
       "      <th>able</th>\n",
       "      <th>able communicate</th>\n",
       "      <th>able figure</th>\n",
       "      <th>able learn</th>\n",
       "      <th>able look</th>\n",
       "      <th>able make</th>\n",
       "      <th>able play</th>\n",
       "      <th>able produce</th>\n",
       "      <th>able provide</th>\n",
       "      <th>able pull</th>\n",
       "      <th>able tell</th>\n",
       "      <th>able use</th>\n",
       "      <th>abnormally</th>\n",
       "      <th>abolish</th>\n",
       "      <th>aboriginal</th>\n",
       "      <th>aboutcompany</th>\n",
       "      <th>aboutdata</th>\n",
       "      <th>aboutdata science</th>\n",
       "      <th>aboutkinds</th>\n",
       "      <th>aboutsun</th>\n",
       "      <th>aboutwhole</th>\n",
       "      <th>abs</th>\n",
       "      <th>abs pii</th>\n",
       "      <th>absence</th>\n",
       "      <th>absolute</th>\n",
       "      <th>absolutely</th>\n",
       "      <th>absolutely appropriategeneral</th>\n",
       "      <th>absolutely idea</th>\n",
       "      <th>absorbed</th>\n",
       "      <th>abstract</th>\n",
       "      <th>abuse</th>\n",
       "      <th>ac</th>\n",
       "      <th>academia</th>\n",
       "      <th>academic</th>\n",
       "      <th>academics</th>\n",
       "      <th>academy</th>\n",
       "      <th>accelerate</th>\n",
       "      <th>accelerated</th>\n",
       "      <th>accelerating</th>\n",
       "      <th>acceleration</th>\n",
       "      <th>accept</th>\n",
       "      <th>acceptable</th>\n",
       "      <th>acceptance</th>\n",
       "      <th>accepted</th>\n",
       "      <th>accepting</th>\n",
       "      <th>access</th>\n",
       "      <th>access public</th>\n",
       "      <th>accessible</th>\n",
       "      <th>accident</th>\n",
       "      <th>according</th>\n",
       "      <th>according laboratory</th>\n",
       "      <th>according new</th>\n",
       "      <th>according recent</th>\n",
       "      <th>according research</th>\n",
       "      <th>according study</th>\n",
       "      <th>account</th>\n",
       "      <th>accounta</th>\n",
       "      <th>accounts</th>\n",
       "      <th>accumulate</th>\n",
       "      <th>accuracy</th>\n",
       "      <th>accurate</th>\n",
       "      <th>accurately</th>\n",
       "      <th>acetaminophen</th>\n",
       "      <th>achieve</th>\n",
       "      <th>achieve maybe</th>\n",
       "      <th>achieved</th>\n",
       "      <th>achievement</th>\n",
       "      <th>achievements</th>\n",
       "      <th>acid</th>\n",
       "      <th>acidic</th>\n",
       "      <th>acids</th>\n",
       "      <th>acrossboard</th>\n",
       "      <th>...</th>\n",
       "      <th>worried apathetic</th>\n",
       "      <th>worry</th>\n",
       "      <th>worrying</th>\n",
       "      <th>worse</th>\n",
       "      <th>worst</th>\n",
       "      <th>worth</th>\n",
       "      <th>worth don</th>\n",
       "      <th>worth learn</th>\n",
       "      <th>worth submitting</th>\n",
       "      <th>wouldn</th>\n",
       "      <th>wouldn make</th>\n",
       "      <th>wouldn mean</th>\n",
       "      <th>wounds</th>\n",
       "      <th>wow</th>\n",
       "      <th>wp</th>\n",
       "      <th>wp content</th>\n",
       "      <th>wrap</th>\n",
       "      <th>wrap head</th>\n",
       "      <th>wrapping</th>\n",
       "      <th>wrapping head</th>\n",
       "      <th>write</th>\n",
       "      <th>write production</th>\n",
       "      <th>write sql</th>\n",
       "      <th>writing</th>\n",
       "      <th>writing code</th>\n",
       "      <th>writing sql</th>\n",
       "      <th>written</th>\n",
       "      <th>wrong</th>\n",
       "      <th>wrong just</th>\n",
       "      <th>wrong missing</th>\n",
       "      <th>wrongadopt</th>\n",
       "      <th>wrongadopt human</th>\n",
       "      <th>wrongthat</th>\n",
       "      <th>wrote</th>\n",
       "      <th>ww</th>\n",
       "      <th>www</th>\n",
       "      <th>www careerfair</th>\n",
       "      <th>www cdc</th>\n",
       "      <th>www coursera</th>\n",
       "      <th>www gonudgeyourself</th>\n",
       "      <th>www google</th>\n",
       "      <th>www kaggle</th>\n",
       "      <th>www nature</th>\n",
       "      <th>www ncbi</th>\n",
       "      <th>www reddit</th>\n",
       "      <th>www sciencedirect</th>\n",
       "      <th>www theguardian</th>\n",
       "      <th>www udemy</th>\n",
       "      <th>xgboost</th>\n",
       "      <th>xy</th>\n",
       "      <th>yawn</th>\n",
       "      <th>year</th>\n",
       "      <th>year ago</th>\n",
       "      <th>year better</th>\n",
       "      <th>year just</th>\n",
       "      <th>year old</th>\n",
       "      <th>year studylongest</th>\n",
       "      <th>yeara</th>\n",
       "      <th>years</th>\n",
       "      <th>years ago</th>\n",
       "      <th>years away</th>\n",
       "      <th>years data</th>\n",
       "      <th>years experience</th>\n",
       "      <th>years know</th>\n",
       "      <th>years old</th>\n",
       "      <th>years send</th>\n",
       "      <th>years work</th>\n",
       "      <th>years years</th>\n",
       "      <th>yearsthe</th>\n",
       "      <th>yeast</th>\n",
       "      <th>yellow</th>\n",
       "      <th>yes</th>\n",
       "      <th>yesterday</th>\n",
       "      <th>yield</th>\n",
       "      <th>yields</th>\n",
       "      <th>yo</th>\n",
       "      <th>york</th>\n",
       "      <th>york city</th>\n",
       "      <th>youa</th>\n",
       "      <th>youadvance</th>\n",
       "      <th>youit</th>\n",
       "      <th>youknow</th>\n",
       "      <th>young</th>\n",
       "      <th>young children</th>\n",
       "      <th>younger</th>\n",
       "      <th>youtu</th>\n",
       "      <th>youtube</th>\n",
       "      <th>youtube channel</th>\n",
       "      <th>youyour</th>\n",
       "      <th>youyour helpadvance</th>\n",
       "      <th>youyour time</th>\n",
       "      <th>yr</th>\n",
       "      <th>yr old</th>\n",
       "      <th>zealand</th>\n",
       "      <th>zero</th>\n",
       "      <th>zombie</th>\n",
       "      <th>zone</th>\n",
       "      <th>zoom</th>\n",
       "      <th>zoomed</th>\n",
       "      <th>zoster</th>\n",
       "    </tr>\n",
       "  </thead>\n",
       "  <tbody>\n",
       "    <tr>\n",
       "      <th>0</th>\n",
       "      <td>0.0</td>\n",
       "      <td>0.0</td>\n",
       "      <td>0.0</td>\n",
       "      <td>0.0</td>\n",
       "      <td>0.0</td>\n",
       "      <td>0.0</td>\n",
       "      <td>0.0</td>\n",
       "      <td>0.0</td>\n",
       "      <td>0.0</td>\n",
       "      <td>0.0</td>\n",
       "      <td>0.0</td>\n",
       "      <td>0.0</td>\n",
       "      <td>0.0</td>\n",
       "      <td>0.0</td>\n",
       "      <td>0.0</td>\n",
       "      <td>0.0</td>\n",
       "      <td>0.0</td>\n",
       "      <td>0.0</td>\n",
       "      <td>0.0</td>\n",
       "      <td>0.0</td>\n",
       "      <td>0.0</td>\n",
       "      <td>0.0</td>\n",
       "      <td>0.0</td>\n",
       "      <td>0.0</td>\n",
       "      <td>0.0</td>\n",
       "      <td>0.0</td>\n",
       "      <td>0.0</td>\n",
       "      <td>0.0</td>\n",
       "      <td>0.0</td>\n",
       "      <td>0.0</td>\n",
       "      <td>0.0</td>\n",
       "      <td>0.0</td>\n",
       "      <td>0.0</td>\n",
       "      <td>0.0</td>\n",
       "      <td>0.0</td>\n",
       "      <td>0.0</td>\n",
       "      <td>0.0</td>\n",
       "      <td>0.0</td>\n",
       "      <td>0.0</td>\n",
       "      <td>0.0</td>\n",
       "      <td>0.0</td>\n",
       "      <td>0.0</td>\n",
       "      <td>0.0</td>\n",
       "      <td>0.0</td>\n",
       "      <td>0.0</td>\n",
       "      <td>0.0</td>\n",
       "      <td>0.0</td>\n",
       "      <td>0.0</td>\n",
       "      <td>0.0</td>\n",
       "      <td>0.0</td>\n",
       "      <td>0.0</td>\n",
       "      <td>0.0</td>\n",
       "      <td>0.0</td>\n",
       "      <td>0.0</td>\n",
       "      <td>0.0</td>\n",
       "      <td>0.0</td>\n",
       "      <td>0.0</td>\n",
       "      <td>0.0</td>\n",
       "      <td>0.0</td>\n",
       "      <td>0.0</td>\n",
       "      <td>0.0</td>\n",
       "      <td>0.0</td>\n",
       "      <td>0.0</td>\n",
       "      <td>0.0</td>\n",
       "      <td>0.0</td>\n",
       "      <td>0.0</td>\n",
       "      <td>0.0</td>\n",
       "      <td>0.0</td>\n",
       "      <td>0.0</td>\n",
       "      <td>0.0</td>\n",
       "      <td>0.0</td>\n",
       "      <td>0.0</td>\n",
       "      <td>0.0</td>\n",
       "      <td>0.0</td>\n",
       "      <td>0.0</td>\n",
       "      <td>0.0</td>\n",
       "      <td>0.0</td>\n",
       "      <td>0.0</td>\n",
       "      <td>0.0</td>\n",
       "      <td>0.0</td>\n",
       "      <td>0.0</td>\n",
       "      <td>0.0</td>\n",
       "      <td>0.0</td>\n",
       "      <td>0.0</td>\n",
       "      <td>0.0</td>\n",
       "      <td>0.0</td>\n",
       "      <td>0.0</td>\n",
       "      <td>0.0</td>\n",
       "      <td>0.0</td>\n",
       "      <td>0.0</td>\n",
       "      <td>0.0</td>\n",
       "      <td>0.0</td>\n",
       "      <td>0.0</td>\n",
       "      <td>0.0</td>\n",
       "      <td>0.0</td>\n",
       "      <td>0.0</td>\n",
       "      <td>0.0</td>\n",
       "      <td>0.0</td>\n",
       "      <td>0.0</td>\n",
       "      <td>0.0</td>\n",
       "      <td>...</td>\n",
       "      <td>0.0</td>\n",
       "      <td>0.0</td>\n",
       "      <td>0.0</td>\n",
       "      <td>0.0</td>\n",
       "      <td>0.0</td>\n",
       "      <td>0.0</td>\n",
       "      <td>0.0</td>\n",
       "      <td>0.0</td>\n",
       "      <td>0.0</td>\n",
       "      <td>0.0</td>\n",
       "      <td>0.0</td>\n",
       "      <td>0.0</td>\n",
       "      <td>0.0</td>\n",
       "      <td>0.0</td>\n",
       "      <td>0.0</td>\n",
       "      <td>0.0</td>\n",
       "      <td>0.0</td>\n",
       "      <td>0.0</td>\n",
       "      <td>0.0</td>\n",
       "      <td>0.0</td>\n",
       "      <td>0.0</td>\n",
       "      <td>0.0</td>\n",
       "      <td>0.0</td>\n",
       "      <td>0.0</td>\n",
       "      <td>0.0</td>\n",
       "      <td>0.0</td>\n",
       "      <td>0.0</td>\n",
       "      <td>0.0</td>\n",
       "      <td>0.0</td>\n",
       "      <td>0.0</td>\n",
       "      <td>0.0</td>\n",
       "      <td>0.0</td>\n",
       "      <td>0.0</td>\n",
       "      <td>0.0</td>\n",
       "      <td>0.0</td>\n",
       "      <td>0.0</td>\n",
       "      <td>0.0</td>\n",
       "      <td>0.0</td>\n",
       "      <td>0.0</td>\n",
       "      <td>0.0</td>\n",
       "      <td>0.0</td>\n",
       "      <td>0.0</td>\n",
       "      <td>0.0</td>\n",
       "      <td>0.0</td>\n",
       "      <td>0.0</td>\n",
       "      <td>0.0</td>\n",
       "      <td>0.0</td>\n",
       "      <td>0.0</td>\n",
       "      <td>0.0</td>\n",
       "      <td>0.0</td>\n",
       "      <td>0.0</td>\n",
       "      <td>0.0</td>\n",
       "      <td>0.0</td>\n",
       "      <td>0.0</td>\n",
       "      <td>0.0</td>\n",
       "      <td>0.0</td>\n",
       "      <td>0.0</td>\n",
       "      <td>0.0</td>\n",
       "      <td>0.0</td>\n",
       "      <td>0.0</td>\n",
       "      <td>0.0</td>\n",
       "      <td>0.0</td>\n",
       "      <td>0.0</td>\n",
       "      <td>0.0</td>\n",
       "      <td>0.0</td>\n",
       "      <td>0.0</td>\n",
       "      <td>0.0</td>\n",
       "      <td>0.0</td>\n",
       "      <td>0.0</td>\n",
       "      <td>0.0</td>\n",
       "      <td>0.0</td>\n",
       "      <td>0.0</td>\n",
       "      <td>0.0</td>\n",
       "      <td>0.0</td>\n",
       "      <td>0.0</td>\n",
       "      <td>0.0</td>\n",
       "      <td>0.0</td>\n",
       "      <td>0.0</td>\n",
       "      <td>0.0</td>\n",
       "      <td>0.0</td>\n",
       "      <td>0.0</td>\n",
       "      <td>0.0</td>\n",
       "      <td>0.0</td>\n",
       "      <td>0.0</td>\n",
       "      <td>0.0</td>\n",
       "      <td>0.0</td>\n",
       "      <td>0.0</td>\n",
       "      <td>0.0</td>\n",
       "      <td>0.0</td>\n",
       "      <td>0.0</td>\n",
       "      <td>0.0</td>\n",
       "      <td>0.0</td>\n",
       "      <td>0.0</td>\n",
       "      <td>0.0</td>\n",
       "      <td>0.0</td>\n",
       "      <td>0.0</td>\n",
       "      <td>0.0</td>\n",
       "      <td>0.0</td>\n",
       "      <td>0.0</td>\n",
       "      <td>0.0</td>\n",
       "    </tr>\n",
       "    <tr>\n",
       "      <th>1</th>\n",
       "      <td>0.0</td>\n",
       "      <td>0.0</td>\n",
       "      <td>0.0</td>\n",
       "      <td>0.0</td>\n",
       "      <td>0.0</td>\n",
       "      <td>0.0</td>\n",
       "      <td>0.0</td>\n",
       "      <td>0.0</td>\n",
       "      <td>0.0</td>\n",
       "      <td>0.0</td>\n",
       "      <td>0.0</td>\n",
       "      <td>0.0</td>\n",
       "      <td>0.0</td>\n",
       "      <td>0.0</td>\n",
       "      <td>0.0</td>\n",
       "      <td>0.0</td>\n",
       "      <td>0.0</td>\n",
       "      <td>0.0</td>\n",
       "      <td>0.0</td>\n",
       "      <td>0.0</td>\n",
       "      <td>0.0</td>\n",
       "      <td>0.0</td>\n",
       "      <td>0.0</td>\n",
       "      <td>0.0</td>\n",
       "      <td>0.0</td>\n",
       "      <td>0.0</td>\n",
       "      <td>0.0</td>\n",
       "      <td>0.0</td>\n",
       "      <td>0.0</td>\n",
       "      <td>0.0</td>\n",
       "      <td>0.0</td>\n",
       "      <td>0.0</td>\n",
       "      <td>0.0</td>\n",
       "      <td>0.0</td>\n",
       "      <td>0.0</td>\n",
       "      <td>0.0</td>\n",
       "      <td>0.0</td>\n",
       "      <td>0.0</td>\n",
       "      <td>0.0</td>\n",
       "      <td>0.0</td>\n",
       "      <td>0.0</td>\n",
       "      <td>0.0</td>\n",
       "      <td>0.0</td>\n",
       "      <td>0.0</td>\n",
       "      <td>0.0</td>\n",
       "      <td>0.0</td>\n",
       "      <td>0.0</td>\n",
       "      <td>0.0</td>\n",
       "      <td>0.0</td>\n",
       "      <td>0.0</td>\n",
       "      <td>0.0</td>\n",
       "      <td>0.0</td>\n",
       "      <td>0.0</td>\n",
       "      <td>0.0</td>\n",
       "      <td>0.0</td>\n",
       "      <td>0.0</td>\n",
       "      <td>0.0</td>\n",
       "      <td>0.0</td>\n",
       "      <td>0.0</td>\n",
       "      <td>0.0</td>\n",
       "      <td>0.0</td>\n",
       "      <td>0.0</td>\n",
       "      <td>0.0</td>\n",
       "      <td>0.0</td>\n",
       "      <td>0.0</td>\n",
       "      <td>0.0</td>\n",
       "      <td>0.0</td>\n",
       "      <td>0.0</td>\n",
       "      <td>0.0</td>\n",
       "      <td>0.0</td>\n",
       "      <td>0.0</td>\n",
       "      <td>0.0</td>\n",
       "      <td>0.0</td>\n",
       "      <td>0.0</td>\n",
       "      <td>0.0</td>\n",
       "      <td>0.0</td>\n",
       "      <td>0.0</td>\n",
       "      <td>0.0</td>\n",
       "      <td>0.0</td>\n",
       "      <td>0.0</td>\n",
       "      <td>0.0</td>\n",
       "      <td>0.0</td>\n",
       "      <td>0.0</td>\n",
       "      <td>0.0</td>\n",
       "      <td>0.0</td>\n",
       "      <td>0.0</td>\n",
       "      <td>0.0</td>\n",
       "      <td>0.0</td>\n",
       "      <td>0.0</td>\n",
       "      <td>0.0</td>\n",
       "      <td>0.0</td>\n",
       "      <td>0.0</td>\n",
       "      <td>0.0</td>\n",
       "      <td>0.0</td>\n",
       "      <td>0.0</td>\n",
       "      <td>0.0</td>\n",
       "      <td>0.0</td>\n",
       "      <td>0.0</td>\n",
       "      <td>0.0</td>\n",
       "      <td>0.0</td>\n",
       "      <td>...</td>\n",
       "      <td>0.0</td>\n",
       "      <td>0.0</td>\n",
       "      <td>0.0</td>\n",
       "      <td>0.0</td>\n",
       "      <td>0.0</td>\n",
       "      <td>0.0</td>\n",
       "      <td>0.0</td>\n",
       "      <td>0.0</td>\n",
       "      <td>0.0</td>\n",
       "      <td>0.0</td>\n",
       "      <td>0.0</td>\n",
       "      <td>0.0</td>\n",
       "      <td>0.0</td>\n",
       "      <td>0.0</td>\n",
       "      <td>0.0</td>\n",
       "      <td>0.0</td>\n",
       "      <td>0.0</td>\n",
       "      <td>0.0</td>\n",
       "      <td>0.0</td>\n",
       "      <td>0.0</td>\n",
       "      <td>0.0</td>\n",
       "      <td>0.0</td>\n",
       "      <td>0.0</td>\n",
       "      <td>0.0</td>\n",
       "      <td>0.0</td>\n",
       "      <td>0.0</td>\n",
       "      <td>0.0</td>\n",
       "      <td>0.0</td>\n",
       "      <td>0.0</td>\n",
       "      <td>0.0</td>\n",
       "      <td>0.0</td>\n",
       "      <td>0.0</td>\n",
       "      <td>0.0</td>\n",
       "      <td>0.0</td>\n",
       "      <td>0.0</td>\n",
       "      <td>0.0</td>\n",
       "      <td>0.0</td>\n",
       "      <td>0.0</td>\n",
       "      <td>0.0</td>\n",
       "      <td>0.0</td>\n",
       "      <td>0.0</td>\n",
       "      <td>0.0</td>\n",
       "      <td>0.0</td>\n",
       "      <td>0.0</td>\n",
       "      <td>0.0</td>\n",
       "      <td>0.0</td>\n",
       "      <td>0.0</td>\n",
       "      <td>0.0</td>\n",
       "      <td>0.0</td>\n",
       "      <td>0.0</td>\n",
       "      <td>0.0</td>\n",
       "      <td>0.0</td>\n",
       "      <td>0.0</td>\n",
       "      <td>0.0</td>\n",
       "      <td>0.0</td>\n",
       "      <td>0.0</td>\n",
       "      <td>0.0</td>\n",
       "      <td>0.0</td>\n",
       "      <td>0.0</td>\n",
       "      <td>0.0</td>\n",
       "      <td>0.0</td>\n",
       "      <td>0.0</td>\n",
       "      <td>0.0</td>\n",
       "      <td>0.0</td>\n",
       "      <td>0.0</td>\n",
       "      <td>0.0</td>\n",
       "      <td>0.0</td>\n",
       "      <td>0.0</td>\n",
       "      <td>0.0</td>\n",
       "      <td>0.0</td>\n",
       "      <td>0.0</td>\n",
       "      <td>0.0</td>\n",
       "      <td>0.0</td>\n",
       "      <td>0.0</td>\n",
       "      <td>0.0</td>\n",
       "      <td>0.0</td>\n",
       "      <td>0.0</td>\n",
       "      <td>0.0</td>\n",
       "      <td>0.0</td>\n",
       "      <td>0.0</td>\n",
       "      <td>0.0</td>\n",
       "      <td>0.0</td>\n",
       "      <td>0.0</td>\n",
       "      <td>0.0</td>\n",
       "      <td>0.0</td>\n",
       "      <td>0.0</td>\n",
       "      <td>0.0</td>\n",
       "      <td>0.0</td>\n",
       "      <td>0.0</td>\n",
       "      <td>0.0</td>\n",
       "      <td>0.0</td>\n",
       "      <td>0.0</td>\n",
       "      <td>0.0</td>\n",
       "      <td>0.0</td>\n",
       "      <td>0.0</td>\n",
       "      <td>0.0</td>\n",
       "      <td>0.0</td>\n",
       "      <td>0.0</td>\n",
       "      <td>0.0</td>\n",
       "      <td>0.0</td>\n",
       "    </tr>\n",
       "    <tr>\n",
       "      <th>2</th>\n",
       "      <td>0.0</td>\n",
       "      <td>0.0</td>\n",
       "      <td>0.0</td>\n",
       "      <td>0.0</td>\n",
       "      <td>0.0</td>\n",
       "      <td>0.0</td>\n",
       "      <td>0.0</td>\n",
       "      <td>0.0</td>\n",
       "      <td>0.0</td>\n",
       "      <td>0.0</td>\n",
       "      <td>0.0</td>\n",
       "      <td>0.0</td>\n",
       "      <td>0.0</td>\n",
       "      <td>0.0</td>\n",
       "      <td>0.0</td>\n",
       "      <td>0.0</td>\n",
       "      <td>0.0</td>\n",
       "      <td>0.0</td>\n",
       "      <td>0.0</td>\n",
       "      <td>0.0</td>\n",
       "      <td>0.0</td>\n",
       "      <td>0.0</td>\n",
       "      <td>0.0</td>\n",
       "      <td>0.0</td>\n",
       "      <td>0.0</td>\n",
       "      <td>0.0</td>\n",
       "      <td>0.0</td>\n",
       "      <td>0.0</td>\n",
       "      <td>0.0</td>\n",
       "      <td>0.0</td>\n",
       "      <td>0.0</td>\n",
       "      <td>0.0</td>\n",
       "      <td>0.0</td>\n",
       "      <td>0.0</td>\n",
       "      <td>0.0</td>\n",
       "      <td>0.0</td>\n",
       "      <td>0.0</td>\n",
       "      <td>0.0</td>\n",
       "      <td>0.0</td>\n",
       "      <td>0.0</td>\n",
       "      <td>0.0</td>\n",
       "      <td>0.0</td>\n",
       "      <td>0.0</td>\n",
       "      <td>0.0</td>\n",
       "      <td>0.0</td>\n",
       "      <td>0.0</td>\n",
       "      <td>0.0</td>\n",
       "      <td>0.0</td>\n",
       "      <td>0.0</td>\n",
       "      <td>0.0</td>\n",
       "      <td>0.0</td>\n",
       "      <td>0.0</td>\n",
       "      <td>0.0</td>\n",
       "      <td>0.0</td>\n",
       "      <td>0.0</td>\n",
       "      <td>0.0</td>\n",
       "      <td>0.0</td>\n",
       "      <td>0.0</td>\n",
       "      <td>0.0</td>\n",
       "      <td>0.0</td>\n",
       "      <td>0.0</td>\n",
       "      <td>0.0</td>\n",
       "      <td>0.0</td>\n",
       "      <td>0.0</td>\n",
       "      <td>0.0</td>\n",
       "      <td>0.0</td>\n",
       "      <td>0.0</td>\n",
       "      <td>0.0</td>\n",
       "      <td>0.0</td>\n",
       "      <td>0.0</td>\n",
       "      <td>0.0</td>\n",
       "      <td>0.0</td>\n",
       "      <td>0.0</td>\n",
       "      <td>0.0</td>\n",
       "      <td>0.0</td>\n",
       "      <td>0.0</td>\n",
       "      <td>0.0</td>\n",
       "      <td>0.0</td>\n",
       "      <td>0.0</td>\n",
       "      <td>0.0</td>\n",
       "      <td>0.0</td>\n",
       "      <td>0.0</td>\n",
       "      <td>0.0</td>\n",
       "      <td>0.0</td>\n",
       "      <td>0.0</td>\n",
       "      <td>0.0</td>\n",
       "      <td>0.0</td>\n",
       "      <td>0.0</td>\n",
       "      <td>0.0</td>\n",
       "      <td>0.0</td>\n",
       "      <td>0.0</td>\n",
       "      <td>0.0</td>\n",
       "      <td>0.0</td>\n",
       "      <td>0.0</td>\n",
       "      <td>0.0</td>\n",
       "      <td>0.0</td>\n",
       "      <td>0.0</td>\n",
       "      <td>0.0</td>\n",
       "      <td>0.0</td>\n",
       "      <td>0.0</td>\n",
       "      <td>...</td>\n",
       "      <td>0.0</td>\n",
       "      <td>0.0</td>\n",
       "      <td>0.0</td>\n",
       "      <td>0.0</td>\n",
       "      <td>0.0</td>\n",
       "      <td>0.0</td>\n",
       "      <td>0.0</td>\n",
       "      <td>0.0</td>\n",
       "      <td>0.0</td>\n",
       "      <td>0.0</td>\n",
       "      <td>0.0</td>\n",
       "      <td>0.0</td>\n",
       "      <td>0.0</td>\n",
       "      <td>0.0</td>\n",
       "      <td>0.0</td>\n",
       "      <td>0.0</td>\n",
       "      <td>0.0</td>\n",
       "      <td>0.0</td>\n",
       "      <td>0.0</td>\n",
       "      <td>0.0</td>\n",
       "      <td>0.0</td>\n",
       "      <td>0.0</td>\n",
       "      <td>0.0</td>\n",
       "      <td>0.0</td>\n",
       "      <td>0.0</td>\n",
       "      <td>0.0</td>\n",
       "      <td>0.0</td>\n",
       "      <td>0.0</td>\n",
       "      <td>0.0</td>\n",
       "      <td>0.0</td>\n",
       "      <td>0.0</td>\n",
       "      <td>0.0</td>\n",
       "      <td>0.0</td>\n",
       "      <td>0.0</td>\n",
       "      <td>0.0</td>\n",
       "      <td>0.0</td>\n",
       "      <td>0.0</td>\n",
       "      <td>0.0</td>\n",
       "      <td>0.0</td>\n",
       "      <td>0.0</td>\n",
       "      <td>0.0</td>\n",
       "      <td>0.0</td>\n",
       "      <td>0.0</td>\n",
       "      <td>0.0</td>\n",
       "      <td>0.0</td>\n",
       "      <td>0.0</td>\n",
       "      <td>0.0</td>\n",
       "      <td>0.0</td>\n",
       "      <td>0.0</td>\n",
       "      <td>0.0</td>\n",
       "      <td>0.0</td>\n",
       "      <td>0.0</td>\n",
       "      <td>0.0</td>\n",
       "      <td>0.0</td>\n",
       "      <td>0.0</td>\n",
       "      <td>0.0</td>\n",
       "      <td>0.0</td>\n",
       "      <td>0.0</td>\n",
       "      <td>0.0</td>\n",
       "      <td>0.0</td>\n",
       "      <td>0.0</td>\n",
       "      <td>0.0</td>\n",
       "      <td>0.0</td>\n",
       "      <td>0.0</td>\n",
       "      <td>0.0</td>\n",
       "      <td>0.0</td>\n",
       "      <td>0.0</td>\n",
       "      <td>0.0</td>\n",
       "      <td>0.0</td>\n",
       "      <td>0.0</td>\n",
       "      <td>0.0</td>\n",
       "      <td>0.0</td>\n",
       "      <td>0.0</td>\n",
       "      <td>0.0</td>\n",
       "      <td>0.0</td>\n",
       "      <td>0.0</td>\n",
       "      <td>0.0</td>\n",
       "      <td>0.0</td>\n",
       "      <td>0.0</td>\n",
       "      <td>0.0</td>\n",
       "      <td>0.0</td>\n",
       "      <td>0.0</td>\n",
       "      <td>0.0</td>\n",
       "      <td>0.0</td>\n",
       "      <td>0.0</td>\n",
       "      <td>0.0</td>\n",
       "      <td>0.0</td>\n",
       "      <td>0.0</td>\n",
       "      <td>0.0</td>\n",
       "      <td>0.0</td>\n",
       "      <td>0.0</td>\n",
       "      <td>0.0</td>\n",
       "      <td>0.0</td>\n",
       "      <td>0.0</td>\n",
       "      <td>0.0</td>\n",
       "      <td>0.0</td>\n",
       "      <td>0.0</td>\n",
       "      <td>0.0</td>\n",
       "      <td>0.0</td>\n",
       "      <td>0.0</td>\n",
       "    </tr>\n",
       "    <tr>\n",
       "      <th>3</th>\n",
       "      <td>0.0</td>\n",
       "      <td>0.0</td>\n",
       "      <td>0.0</td>\n",
       "      <td>0.0</td>\n",
       "      <td>0.0</td>\n",
       "      <td>0.0</td>\n",
       "      <td>0.0</td>\n",
       "      <td>0.0</td>\n",
       "      <td>0.0</td>\n",
       "      <td>0.0</td>\n",
       "      <td>0.0</td>\n",
       "      <td>0.0</td>\n",
       "      <td>0.0</td>\n",
       "      <td>0.0</td>\n",
       "      <td>0.0</td>\n",
       "      <td>0.0</td>\n",
       "      <td>0.0</td>\n",
       "      <td>0.0</td>\n",
       "      <td>0.0</td>\n",
       "      <td>0.0</td>\n",
       "      <td>0.0</td>\n",
       "      <td>0.0</td>\n",
       "      <td>0.0</td>\n",
       "      <td>0.0</td>\n",
       "      <td>0.0</td>\n",
       "      <td>0.0</td>\n",
       "      <td>0.0</td>\n",
       "      <td>0.0</td>\n",
       "      <td>0.0</td>\n",
       "      <td>0.0</td>\n",
       "      <td>0.0</td>\n",
       "      <td>0.0</td>\n",
       "      <td>0.0</td>\n",
       "      <td>0.0</td>\n",
       "      <td>0.0</td>\n",
       "      <td>0.0</td>\n",
       "      <td>0.0</td>\n",
       "      <td>0.0</td>\n",
       "      <td>0.0</td>\n",
       "      <td>0.0</td>\n",
       "      <td>0.0</td>\n",
       "      <td>0.0</td>\n",
       "      <td>0.0</td>\n",
       "      <td>0.0</td>\n",
       "      <td>0.0</td>\n",
       "      <td>0.0</td>\n",
       "      <td>0.0</td>\n",
       "      <td>0.0</td>\n",
       "      <td>0.0</td>\n",
       "      <td>0.0</td>\n",
       "      <td>0.0</td>\n",
       "      <td>0.0</td>\n",
       "      <td>0.0</td>\n",
       "      <td>0.0</td>\n",
       "      <td>0.0</td>\n",
       "      <td>0.0</td>\n",
       "      <td>0.0</td>\n",
       "      <td>0.0</td>\n",
       "      <td>0.0</td>\n",
       "      <td>0.0</td>\n",
       "      <td>0.0</td>\n",
       "      <td>0.0</td>\n",
       "      <td>0.0</td>\n",
       "      <td>0.0</td>\n",
       "      <td>0.0</td>\n",
       "      <td>0.0</td>\n",
       "      <td>0.0</td>\n",
       "      <td>0.0</td>\n",
       "      <td>0.0</td>\n",
       "      <td>0.0</td>\n",
       "      <td>0.0</td>\n",
       "      <td>0.0</td>\n",
       "      <td>0.0</td>\n",
       "      <td>0.0</td>\n",
       "      <td>0.0</td>\n",
       "      <td>0.0</td>\n",
       "      <td>0.0</td>\n",
       "      <td>0.0</td>\n",
       "      <td>0.0</td>\n",
       "      <td>0.0</td>\n",
       "      <td>0.0</td>\n",
       "      <td>0.0</td>\n",
       "      <td>0.0</td>\n",
       "      <td>0.0</td>\n",
       "      <td>0.0</td>\n",
       "      <td>0.0</td>\n",
       "      <td>0.0</td>\n",
       "      <td>0.0</td>\n",
       "      <td>0.0</td>\n",
       "      <td>0.0</td>\n",
       "      <td>0.0</td>\n",
       "      <td>0.0</td>\n",
       "      <td>0.0</td>\n",
       "      <td>0.0</td>\n",
       "      <td>0.0</td>\n",
       "      <td>0.0</td>\n",
       "      <td>0.0</td>\n",
       "      <td>0.0</td>\n",
       "      <td>0.0</td>\n",
       "      <td>0.0</td>\n",
       "      <td>...</td>\n",
       "      <td>0.0</td>\n",
       "      <td>0.0</td>\n",
       "      <td>0.0</td>\n",
       "      <td>0.0</td>\n",
       "      <td>0.0</td>\n",
       "      <td>0.0</td>\n",
       "      <td>0.0</td>\n",
       "      <td>0.0</td>\n",
       "      <td>0.0</td>\n",
       "      <td>0.0</td>\n",
       "      <td>0.0</td>\n",
       "      <td>0.0</td>\n",
       "      <td>0.0</td>\n",
       "      <td>0.0</td>\n",
       "      <td>0.0</td>\n",
       "      <td>0.0</td>\n",
       "      <td>0.0</td>\n",
       "      <td>0.0</td>\n",
       "      <td>0.0</td>\n",
       "      <td>0.0</td>\n",
       "      <td>0.0</td>\n",
       "      <td>0.0</td>\n",
       "      <td>0.0</td>\n",
       "      <td>0.0</td>\n",
       "      <td>0.0</td>\n",
       "      <td>0.0</td>\n",
       "      <td>0.0</td>\n",
       "      <td>0.0</td>\n",
       "      <td>0.0</td>\n",
       "      <td>0.0</td>\n",
       "      <td>0.0</td>\n",
       "      <td>0.0</td>\n",
       "      <td>0.0</td>\n",
       "      <td>0.0</td>\n",
       "      <td>0.0</td>\n",
       "      <td>0.0</td>\n",
       "      <td>0.0</td>\n",
       "      <td>0.0</td>\n",
       "      <td>0.0</td>\n",
       "      <td>0.0</td>\n",
       "      <td>0.0</td>\n",
       "      <td>0.0</td>\n",
       "      <td>0.0</td>\n",
       "      <td>0.0</td>\n",
       "      <td>0.0</td>\n",
       "      <td>0.0</td>\n",
       "      <td>0.0</td>\n",
       "      <td>0.0</td>\n",
       "      <td>0.0</td>\n",
       "      <td>0.0</td>\n",
       "      <td>0.0</td>\n",
       "      <td>0.0</td>\n",
       "      <td>0.0</td>\n",
       "      <td>0.0</td>\n",
       "      <td>0.0</td>\n",
       "      <td>0.0</td>\n",
       "      <td>0.0</td>\n",
       "      <td>0.0</td>\n",
       "      <td>0.0</td>\n",
       "      <td>0.0</td>\n",
       "      <td>0.0</td>\n",
       "      <td>0.0</td>\n",
       "      <td>0.0</td>\n",
       "      <td>0.0</td>\n",
       "      <td>0.0</td>\n",
       "      <td>0.0</td>\n",
       "      <td>0.0</td>\n",
       "      <td>0.0</td>\n",
       "      <td>0.0</td>\n",
       "      <td>0.0</td>\n",
       "      <td>0.0</td>\n",
       "      <td>0.0</td>\n",
       "      <td>0.0</td>\n",
       "      <td>0.0</td>\n",
       "      <td>0.0</td>\n",
       "      <td>0.0</td>\n",
       "      <td>0.0</td>\n",
       "      <td>0.0</td>\n",
       "      <td>0.0</td>\n",
       "      <td>0.0</td>\n",
       "      <td>0.0</td>\n",
       "      <td>0.0</td>\n",
       "      <td>0.0</td>\n",
       "      <td>0.0</td>\n",
       "      <td>0.0</td>\n",
       "      <td>0.0</td>\n",
       "      <td>0.0</td>\n",
       "      <td>0.0</td>\n",
       "      <td>0.0</td>\n",
       "      <td>0.0</td>\n",
       "      <td>0.0</td>\n",
       "      <td>0.0</td>\n",
       "      <td>0.0</td>\n",
       "      <td>0.0</td>\n",
       "      <td>0.0</td>\n",
       "      <td>0.0</td>\n",
       "      <td>0.0</td>\n",
       "      <td>0.0</td>\n",
       "      <td>0.0</td>\n",
       "      <td>0.0</td>\n",
       "    </tr>\n",
       "    <tr>\n",
       "      <th>4</th>\n",
       "      <td>0.0</td>\n",
       "      <td>0.0</td>\n",
       "      <td>0.0</td>\n",
       "      <td>0.0</td>\n",
       "      <td>0.0</td>\n",
       "      <td>0.0</td>\n",
       "      <td>0.0</td>\n",
       "      <td>0.0</td>\n",
       "      <td>0.0</td>\n",
       "      <td>0.0</td>\n",
       "      <td>0.0</td>\n",
       "      <td>0.0</td>\n",
       "      <td>0.0</td>\n",
       "      <td>0.0</td>\n",
       "      <td>0.0</td>\n",
       "      <td>0.0</td>\n",
       "      <td>0.0</td>\n",
       "      <td>0.0</td>\n",
       "      <td>0.0</td>\n",
       "      <td>0.0</td>\n",
       "      <td>0.0</td>\n",
       "      <td>0.0</td>\n",
       "      <td>0.0</td>\n",
       "      <td>0.0</td>\n",
       "      <td>0.0</td>\n",
       "      <td>0.0</td>\n",
       "      <td>0.0</td>\n",
       "      <td>0.0</td>\n",
       "      <td>0.0</td>\n",
       "      <td>0.0</td>\n",
       "      <td>0.0</td>\n",
       "      <td>0.0</td>\n",
       "      <td>0.0</td>\n",
       "      <td>0.0</td>\n",
       "      <td>0.0</td>\n",
       "      <td>0.0</td>\n",
       "      <td>0.0</td>\n",
       "      <td>0.0</td>\n",
       "      <td>0.0</td>\n",
       "      <td>0.0</td>\n",
       "      <td>0.0</td>\n",
       "      <td>0.0</td>\n",
       "      <td>0.0</td>\n",
       "      <td>0.0</td>\n",
       "      <td>0.0</td>\n",
       "      <td>0.0</td>\n",
       "      <td>0.0</td>\n",
       "      <td>0.0</td>\n",
       "      <td>0.0</td>\n",
       "      <td>0.0</td>\n",
       "      <td>0.0</td>\n",
       "      <td>0.0</td>\n",
       "      <td>0.0</td>\n",
       "      <td>0.0</td>\n",
       "      <td>0.0</td>\n",
       "      <td>0.0</td>\n",
       "      <td>0.0</td>\n",
       "      <td>0.0</td>\n",
       "      <td>0.0</td>\n",
       "      <td>0.0</td>\n",
       "      <td>0.0</td>\n",
       "      <td>0.0</td>\n",
       "      <td>0.0</td>\n",
       "      <td>0.0</td>\n",
       "      <td>0.0</td>\n",
       "      <td>0.0</td>\n",
       "      <td>0.0</td>\n",
       "      <td>0.0</td>\n",
       "      <td>0.0</td>\n",
       "      <td>0.0</td>\n",
       "      <td>0.0</td>\n",
       "      <td>0.0</td>\n",
       "      <td>0.0</td>\n",
       "      <td>0.0</td>\n",
       "      <td>0.0</td>\n",
       "      <td>0.0</td>\n",
       "      <td>0.0</td>\n",
       "      <td>0.0</td>\n",
       "      <td>0.0</td>\n",
       "      <td>0.0</td>\n",
       "      <td>0.0</td>\n",
       "      <td>0.0</td>\n",
       "      <td>0.0</td>\n",
       "      <td>0.0</td>\n",
       "      <td>0.0</td>\n",
       "      <td>0.0</td>\n",
       "      <td>0.0</td>\n",
       "      <td>0.0</td>\n",
       "      <td>0.0</td>\n",
       "      <td>0.0</td>\n",
       "      <td>0.0</td>\n",
       "      <td>0.0</td>\n",
       "      <td>0.0</td>\n",
       "      <td>0.0</td>\n",
       "      <td>0.0</td>\n",
       "      <td>0.0</td>\n",
       "      <td>0.0</td>\n",
       "      <td>0.0</td>\n",
       "      <td>0.0</td>\n",
       "      <td>0.0</td>\n",
       "      <td>...</td>\n",
       "      <td>0.0</td>\n",
       "      <td>0.0</td>\n",
       "      <td>0.0</td>\n",
       "      <td>0.0</td>\n",
       "      <td>0.0</td>\n",
       "      <td>0.0</td>\n",
       "      <td>0.0</td>\n",
       "      <td>0.0</td>\n",
       "      <td>0.0</td>\n",
       "      <td>0.0</td>\n",
       "      <td>0.0</td>\n",
       "      <td>0.0</td>\n",
       "      <td>0.0</td>\n",
       "      <td>0.0</td>\n",
       "      <td>0.0</td>\n",
       "      <td>0.0</td>\n",
       "      <td>0.0</td>\n",
       "      <td>0.0</td>\n",
       "      <td>0.0</td>\n",
       "      <td>0.0</td>\n",
       "      <td>0.0</td>\n",
       "      <td>0.0</td>\n",
       "      <td>0.0</td>\n",
       "      <td>0.0</td>\n",
       "      <td>0.0</td>\n",
       "      <td>0.0</td>\n",
       "      <td>0.0</td>\n",
       "      <td>0.0</td>\n",
       "      <td>0.0</td>\n",
       "      <td>0.0</td>\n",
       "      <td>0.0</td>\n",
       "      <td>0.0</td>\n",
       "      <td>0.0</td>\n",
       "      <td>0.0</td>\n",
       "      <td>0.0</td>\n",
       "      <td>0.0</td>\n",
       "      <td>0.0</td>\n",
       "      <td>0.0</td>\n",
       "      <td>0.0</td>\n",
       "      <td>0.0</td>\n",
       "      <td>0.0</td>\n",
       "      <td>0.0</td>\n",
       "      <td>0.0</td>\n",
       "      <td>0.0</td>\n",
       "      <td>0.0</td>\n",
       "      <td>0.0</td>\n",
       "      <td>0.0</td>\n",
       "      <td>0.0</td>\n",
       "      <td>0.0</td>\n",
       "      <td>0.0</td>\n",
       "      <td>0.0</td>\n",
       "      <td>0.0</td>\n",
       "      <td>0.0</td>\n",
       "      <td>0.0</td>\n",
       "      <td>0.0</td>\n",
       "      <td>0.0</td>\n",
       "      <td>0.0</td>\n",
       "      <td>0.0</td>\n",
       "      <td>0.0</td>\n",
       "      <td>0.0</td>\n",
       "      <td>0.0</td>\n",
       "      <td>0.0</td>\n",
       "      <td>0.0</td>\n",
       "      <td>0.0</td>\n",
       "      <td>0.0</td>\n",
       "      <td>0.0</td>\n",
       "      <td>0.0</td>\n",
       "      <td>0.0</td>\n",
       "      <td>0.0</td>\n",
       "      <td>0.0</td>\n",
       "      <td>0.0</td>\n",
       "      <td>0.0</td>\n",
       "      <td>0.0</td>\n",
       "      <td>0.0</td>\n",
       "      <td>0.0</td>\n",
       "      <td>0.0</td>\n",
       "      <td>0.0</td>\n",
       "      <td>0.0</td>\n",
       "      <td>0.0</td>\n",
       "      <td>0.0</td>\n",
       "      <td>0.0</td>\n",
       "      <td>0.0</td>\n",
       "      <td>0.0</td>\n",
       "      <td>0.0</td>\n",
       "      <td>0.0</td>\n",
       "      <td>0.0</td>\n",
       "      <td>0.0</td>\n",
       "      <td>0.0</td>\n",
       "      <td>0.0</td>\n",
       "      <td>0.0</td>\n",
       "      <td>0.0</td>\n",
       "      <td>0.0</td>\n",
       "      <td>0.0</td>\n",
       "      <td>0.0</td>\n",
       "      <td>0.0</td>\n",
       "      <td>0.0</td>\n",
       "      <td>0.0</td>\n",
       "      <td>0.0</td>\n",
       "      <td>0.0</td>\n",
       "      <td>0.0</td>\n",
       "    </tr>\n",
       "  </tbody>\n",
       "</table>\n",
       "<p>5 rows × 9526 columns</p>\n",
       "</div>"
      ],
      "text/plain": [
       "   _and  _and _share  _bleep  _bleep bloop_  _content  _data  _data _reports  \\\n",
       "0  0.0   0.0          0.0     0.0            0.0       0.0    0.0              \n",
       "1  0.0   0.0          0.0     0.0            0.0       0.0    0.0              \n",
       "2  0.0   0.0          0.0     0.0            0.0       0.0    0.0              \n",
       "3  0.0   0.0          0.0     0.0            0.0       0.0    0.0              \n",
       "4  0.0   0.0          0.0     0.0            0.0       0.0    0.0              \n",
       "\n",
       "   _do  _do _you  _link  _link sk  _matrix  _reports  _reports https  _share  \\\n",
       "0  0.0  0.0       0.0    0.0       0.0      0.0       0.0             0.0      \n",
       "1  0.0  0.0       0.0    0.0       0.0      0.0       0.0             0.0      \n",
       "2  0.0  0.0       0.0    0.0       0.0      0.0       0.0             0.0      \n",
       "3  0.0  0.0       0.0    0.0       0.0      0.0       0.0             0.0      \n",
       "4  0.0  0.0       0.0    0.0       0.0      0.0       0.0             0.0      \n",
       "\n",
       "   _share _your  _track  _track _and  _you  _you _track  _your  _your _data  \\\n",
       "0  0.0           0.0     0.0          0.0   0.0          0.0    0.0           \n",
       "1  0.0           0.0     0.0          0.0   0.0          0.0    0.0           \n",
       "2  0.0           0.0     0.0          0.0   0.0          0.0    0.0           \n",
       "3  0.0           0.0     0.0          0.0   0.0          0.0    0.0           \n",
       "4  0.0           0.0     0.0          0.0   0.0          0.0    0.0           \n",
       "\n",
       "    aa   ab  abilities  ability  ability dependthe  abit  able  \\\n",
       "0  0.0  0.0  0.0        0.0      0.0                0.0   0.0    \n",
       "1  0.0  0.0  0.0        0.0      0.0                0.0   0.0    \n",
       "2  0.0  0.0  0.0        0.0      0.0                0.0   0.0    \n",
       "3  0.0  0.0  0.0        0.0      0.0                0.0   0.0    \n",
       "4  0.0  0.0  0.0        0.0      0.0                0.0   0.0    \n",
       "\n",
       "   able communicate  able figure  able learn  able look  able make  able play  \\\n",
       "0  0.0               0.0          0.0         0.0        0.0        0.0         \n",
       "1  0.0               0.0          0.0         0.0        0.0        0.0         \n",
       "2  0.0               0.0          0.0         0.0        0.0        0.0         \n",
       "3  0.0               0.0          0.0         0.0        0.0        0.0         \n",
       "4  0.0               0.0          0.0         0.0        0.0        0.0         \n",
       "\n",
       "   able produce  able provide  able pull  able tell  able use  abnormally  \\\n",
       "0  0.0           0.0           0.0        0.0        0.0       0.0          \n",
       "1  0.0           0.0           0.0        0.0        0.0       0.0          \n",
       "2  0.0           0.0           0.0        0.0        0.0       0.0          \n",
       "3  0.0           0.0           0.0        0.0        0.0       0.0          \n",
       "4  0.0           0.0           0.0        0.0        0.0       0.0          \n",
       "\n",
       "   abolish  aboriginal  aboutcompany  aboutdata  aboutdata science  \\\n",
       "0  0.0      0.0         0.0           0.0        0.0                 \n",
       "1  0.0      0.0         0.0           0.0        0.0                 \n",
       "2  0.0      0.0         0.0           0.0        0.0                 \n",
       "3  0.0      0.0         0.0           0.0        0.0                 \n",
       "4  0.0      0.0         0.0           0.0        0.0                 \n",
       "\n",
       "   aboutkinds  aboutsun  aboutwhole  abs  abs pii  absence  absolute  \\\n",
       "0  0.0         0.0       0.0         0.0  0.0      0.0      0.0        \n",
       "1  0.0         0.0       0.0         0.0  0.0      0.0      0.0        \n",
       "2  0.0         0.0       0.0         0.0  0.0      0.0      0.0        \n",
       "3  0.0         0.0       0.0         0.0  0.0      0.0      0.0        \n",
       "4  0.0         0.0       0.0         0.0  0.0      0.0      0.0        \n",
       "\n",
       "   absolutely  absolutely appropriategeneral  absolutely idea  absorbed  \\\n",
       "0  0.0         0.0                            0.0              0.0        \n",
       "1  0.0         0.0                            0.0              0.0        \n",
       "2  0.0         0.0                            0.0              0.0        \n",
       "3  0.0         0.0                            0.0              0.0        \n",
       "4  0.0         0.0                            0.0              0.0        \n",
       "\n",
       "   abstract  abuse   ac  academia  academic  academics  academy  accelerate  \\\n",
       "0  0.0       0.0    0.0  0.0       0.0       0.0        0.0      0.0          \n",
       "1  0.0       0.0    0.0  0.0       0.0       0.0        0.0      0.0          \n",
       "2  0.0       0.0    0.0  0.0       0.0       0.0        0.0      0.0          \n",
       "3  0.0       0.0    0.0  0.0       0.0       0.0        0.0      0.0          \n",
       "4  0.0       0.0    0.0  0.0       0.0       0.0        0.0      0.0          \n",
       "\n",
       "   accelerated  accelerating  acceleration  accept  acceptable  acceptance  \\\n",
       "0  0.0          0.0           0.0           0.0     0.0         0.0          \n",
       "1  0.0          0.0           0.0           0.0     0.0         0.0          \n",
       "2  0.0          0.0           0.0           0.0     0.0         0.0          \n",
       "3  0.0          0.0           0.0           0.0     0.0         0.0          \n",
       "4  0.0          0.0           0.0           0.0     0.0         0.0          \n",
       "\n",
       "   accepted  accepting  access  access public  accessible  accident  \\\n",
       "0  0.0       0.0        0.0     0.0            0.0         0.0        \n",
       "1  0.0       0.0        0.0     0.0            0.0         0.0        \n",
       "2  0.0       0.0        0.0     0.0            0.0         0.0        \n",
       "3  0.0       0.0        0.0     0.0            0.0         0.0        \n",
       "4  0.0       0.0        0.0     0.0            0.0         0.0        \n",
       "\n",
       "   according  according laboratory  according new  according recent  \\\n",
       "0  0.0        0.0                   0.0            0.0                \n",
       "1  0.0        0.0                   0.0            0.0                \n",
       "2  0.0        0.0                   0.0            0.0                \n",
       "3  0.0        0.0                   0.0            0.0                \n",
       "4  0.0        0.0                   0.0            0.0                \n",
       "\n",
       "   according research  according study  account  accounta  accounts  \\\n",
       "0  0.0                 0.0              0.0      0.0       0.0        \n",
       "1  0.0                 0.0              0.0      0.0       0.0        \n",
       "2  0.0                 0.0              0.0      0.0       0.0        \n",
       "3  0.0                 0.0              0.0      0.0       0.0        \n",
       "4  0.0                 0.0              0.0      0.0       0.0        \n",
       "\n",
       "   accumulate  accuracy  accurate  accurately  acetaminophen  achieve  \\\n",
       "0  0.0         0.0       0.0       0.0         0.0            0.0       \n",
       "1  0.0         0.0       0.0       0.0         0.0            0.0       \n",
       "2  0.0         0.0       0.0       0.0         0.0            0.0       \n",
       "3  0.0         0.0       0.0       0.0         0.0            0.0       \n",
       "4  0.0         0.0       0.0       0.0         0.0            0.0       \n",
       "\n",
       "   achieve maybe  achieved  achievement  achievements  acid  acidic  acids  \\\n",
       "0  0.0            0.0       0.0          0.0           0.0   0.0     0.0     \n",
       "1  0.0            0.0       0.0          0.0           0.0   0.0     0.0     \n",
       "2  0.0            0.0       0.0          0.0           0.0   0.0     0.0     \n",
       "3  0.0            0.0       0.0          0.0           0.0   0.0     0.0     \n",
       "4  0.0            0.0       0.0          0.0           0.0   0.0     0.0     \n",
       "\n",
       "   acrossboard  ...  worried apathetic  worry  worrying  worse  worst  worth  \\\n",
       "0  0.0          ...  0.0                0.0    0.0       0.0    0.0    0.0     \n",
       "1  0.0          ...  0.0                0.0    0.0       0.0    0.0    0.0     \n",
       "2  0.0          ...  0.0                0.0    0.0       0.0    0.0    0.0     \n",
       "3  0.0          ...  0.0                0.0    0.0       0.0    0.0    0.0     \n",
       "4  0.0          ...  0.0                0.0    0.0       0.0    0.0    0.0     \n",
       "\n",
       "   worth don  worth learn  worth submitting  wouldn  wouldn make  wouldn mean  \\\n",
       "0  0.0        0.0          0.0               0.0     0.0          0.0           \n",
       "1  0.0        0.0          0.0               0.0     0.0          0.0           \n",
       "2  0.0        0.0          0.0               0.0     0.0          0.0           \n",
       "3  0.0        0.0          0.0               0.0     0.0          0.0           \n",
       "4  0.0        0.0          0.0               0.0     0.0          0.0           \n",
       "\n",
       "   wounds  wow   wp  wp content  wrap  wrap head  wrapping  wrapping head  \\\n",
       "0  0.0     0.0  0.0  0.0         0.0   0.0        0.0       0.0             \n",
       "1  0.0     0.0  0.0  0.0         0.0   0.0        0.0       0.0             \n",
       "2  0.0     0.0  0.0  0.0         0.0   0.0        0.0       0.0             \n",
       "3  0.0     0.0  0.0  0.0         0.0   0.0        0.0       0.0             \n",
       "4  0.0     0.0  0.0  0.0         0.0   0.0        0.0       0.0             \n",
       "\n",
       "   write  write production  write sql  writing  writing code  writing sql  \\\n",
       "0  0.0    0.0               0.0        0.0      0.0           0.0           \n",
       "1  0.0    0.0               0.0        0.0      0.0           0.0           \n",
       "2  0.0    0.0               0.0        0.0      0.0           0.0           \n",
       "3  0.0    0.0               0.0        0.0      0.0           0.0           \n",
       "4  0.0    0.0               0.0        0.0      0.0           0.0           \n",
       "\n",
       "   written  wrong  wrong just  wrong missing  wrongadopt  wrongadopt human  \\\n",
       "0  0.0      0.0    0.0         0.0            0.0         0.0                \n",
       "1  0.0      0.0    0.0         0.0            0.0         0.0                \n",
       "2  0.0      0.0    0.0         0.0            0.0         0.0                \n",
       "3  0.0      0.0    0.0         0.0            0.0         0.0                \n",
       "4  0.0      0.0    0.0         0.0            0.0         0.0                \n",
       "\n",
       "   wrongthat  wrote   ww  www  www careerfair  www cdc  www coursera  \\\n",
       "0  0.0        0.0    0.0  0.0  0.0             0.0      0.0            \n",
       "1  0.0        0.0    0.0  0.0  0.0             0.0      0.0            \n",
       "2  0.0        0.0    0.0  0.0  0.0             0.0      0.0            \n",
       "3  0.0        0.0    0.0  0.0  0.0             0.0      0.0            \n",
       "4  0.0        0.0    0.0  0.0  0.0             0.0      0.0            \n",
       "\n",
       "   www gonudgeyourself  www google  www kaggle  www nature  www ncbi  \\\n",
       "0  0.0                  0.0         0.0         0.0         0.0        \n",
       "1  0.0                  0.0         0.0         0.0         0.0        \n",
       "2  0.0                  0.0         0.0         0.0         0.0        \n",
       "3  0.0                  0.0         0.0         0.0         0.0        \n",
       "4  0.0                  0.0         0.0         0.0         0.0        \n",
       "\n",
       "   www reddit  www sciencedirect  www theguardian  www udemy  xgboost   xy  \\\n",
       "0  0.0         0.0                0.0              0.0        0.0      0.0   \n",
       "1  0.0         0.0                0.0              0.0        0.0      0.0   \n",
       "2  0.0         0.0                0.0              0.0        0.0      0.0   \n",
       "3  0.0         0.0                0.0              0.0        0.0      0.0   \n",
       "4  0.0         0.0                0.0              0.0        0.0      0.0   \n",
       "\n",
       "   yawn  year  year ago  year better  year just  year old  year studylongest  \\\n",
       "0  0.0   0.0   0.0       0.0          0.0        0.0       0.0                 \n",
       "1  0.0   0.0   0.0       0.0          0.0        0.0       0.0                 \n",
       "2  0.0   0.0   0.0       0.0          0.0        0.0       0.0                 \n",
       "3  0.0   0.0   0.0       0.0          0.0        0.0       0.0                 \n",
       "4  0.0   0.0   0.0       0.0          0.0        0.0       0.0                 \n",
       "\n",
       "   yeara  years  years ago  years away  years data  years experience  \\\n",
       "0  0.0    0.0    0.0        0.0         0.0         0.0                \n",
       "1  0.0    0.0    0.0        0.0         0.0         0.0                \n",
       "2  0.0    0.0    0.0        0.0         0.0         0.0                \n",
       "3  0.0    0.0    0.0        0.0         0.0         0.0                \n",
       "4  0.0    0.0    0.0        0.0         0.0         0.0                \n",
       "\n",
       "   years know  years old  years send  years work  years years  yearsthe  \\\n",
       "0  0.0         0.0        0.0         0.0         0.0          0.0        \n",
       "1  0.0         0.0        0.0         0.0         0.0          0.0        \n",
       "2  0.0         0.0        0.0         0.0         0.0          0.0        \n",
       "3  0.0         0.0        0.0         0.0         0.0          0.0        \n",
       "4  0.0         0.0        0.0         0.0         0.0          0.0        \n",
       "\n",
       "   yeast  yellow  yes  yesterday  yield  yields   yo  york  york city  youa  \\\n",
       "0  0.0    0.0     0.0  0.0        0.0    0.0     0.0  0.0   0.0        0.0    \n",
       "1  0.0    0.0     0.0  0.0        0.0    0.0     0.0  0.0   0.0        0.0    \n",
       "2  0.0    0.0     0.0  0.0        0.0    0.0     0.0  0.0   0.0        0.0    \n",
       "3  0.0    0.0     0.0  0.0        0.0    0.0     0.0  0.0   0.0        0.0    \n",
       "4  0.0    0.0     0.0  0.0        0.0    0.0     0.0  0.0   0.0        0.0    \n",
       "\n",
       "   youadvance  youit  youknow  young  young children  younger  youtu  youtube  \\\n",
       "0  0.0         0.0    0.0      0.0    0.0             0.0      0.0    0.0       \n",
       "1  0.0         0.0    0.0      0.0    0.0             0.0      0.0    0.0       \n",
       "2  0.0         0.0    0.0      0.0    0.0             0.0      0.0    0.0       \n",
       "3  0.0         0.0    0.0      0.0    0.0             0.0      0.0    0.0       \n",
       "4  0.0         0.0    0.0      0.0    0.0             0.0      0.0    0.0       \n",
       "\n",
       "   youtube channel  youyour  youyour helpadvance  youyour time   yr  yr old  \\\n",
       "0  0.0              0.0      0.0                  0.0           0.0  0.0      \n",
       "1  0.0              0.0      0.0                  0.0           0.0  0.0      \n",
       "2  0.0              0.0      0.0                  0.0           0.0  0.0      \n",
       "3  0.0              0.0      0.0                  0.0           0.0  0.0      \n",
       "4  0.0              0.0      0.0                  0.0           0.0  0.0      \n",
       "\n",
       "   zealand  zero  zombie  zone  zoom  zoomed  zoster  \n",
       "0  0.0      0.0   0.0     0.0   0.0   0.0     0.0     \n",
       "1  0.0      0.0   0.0     0.0   0.0   0.0     0.0     \n",
       "2  0.0      0.0   0.0     0.0   0.0   0.0     0.0     \n",
       "3  0.0      0.0   0.0     0.0   0.0   0.0     0.0     \n",
       "4  0.0      0.0   0.0     0.0   0.0   0.0     0.0     \n",
       "\n",
       "[5 rows x 9526 columns]"
      ]
     },
     "execution_count": 28,
     "metadata": {},
     "output_type": "execute_result"
    }
   ],
   "source": [
    "# Get sparse dtm\n",
    "dtm = vect.fit_transform(X_train)\n",
    "\n",
    "# Convert to dataframe\n",
    "dtm = pd.DataFrame(dtm.todense(), columns=vect.get_feature_names())\n",
    "print(dtm.shape)\n",
    "dtm.head()"
   ]
  },
  {
   "cell_type": "code",
   "execution_count": 29,
   "metadata": {},
   "outputs": [
    {
     "data": {
      "text/plain": [
       "Text(0, 0.5, 'Word')"
      ]
     },
     "execution_count": 29,
     "metadata": {},
     "output_type": "execute_result"
    },
    {
     "data": {
      "image/png": "[encoded data removed]",
      "text/plain": [
       "<Figure size 432x288 with 1 Axes>"
      ]
     },
     "metadata": {},
     "output_type": "display_data"
    }
   ],
   "source": [
    "#sum_words = dtm.sum(axis=0) \n",
    "wc_top20= dtm.sum(axis=0).sort_values(ascending=False)[:20]\n",
    "wc_top20.plot(kind='bar')\n",
    "plt.title('Top 20 Words in text')\n",
    "plt.xlabel('Count')\n",
    "plt.ylabel('Word')"
   ]
  },
  {
   "cell_type": "code",
   "execution_count": 33,
   "metadata": {},
   "outputs": [],
   "source": [
    "# Define the Pipeline\n",
    "RFC_model = Pipeline([\n",
    "    ('vect', vect),      # TF-IDF Vectorizer\n",
    "    ('clf', RF_model)         # RandomForest Classifier\n",
    "])"
   ]
  },
  {
   "cell_type": "code",
   "execution_count": 34,
   "metadata": {},
   "outputs": [
    {
     "name": "stdout",
     "output_type": "stream",
     "text": [
      "Fitting 5 folds for each of 108 candidates, totalling 540 fits\n"
     ]
    },
    {
     "name": "stderr",
     "output_type": "stream",
     "text": [
      "[Parallel(n_jobs=-1)]: Using backend LokyBackend with 8 concurrent workers.\n",
      "[Parallel(n_jobs=-1)]: Done  34 tasks      | elapsed:    8.1s\n",
      "[Parallel(n_jobs=-1)]: Done 184 tasks      | elapsed:  1.4min\n",
      "[Parallel(n_jobs=-1)]: Done 434 tasks      | elapsed:  3.9min\n",
      "[Parallel(n_jobs=-1)]: Done 540 out of 540 | elapsed:  8.6min finished\n"
     ]
    },
    {
     "data": {
      "text/plain": [
       "GridSearchCV(cv=5,\n",
       "             estimator=Pipeline(steps=[('vect',\n",
       "                                        TfidfVectorizer(max_df=0.75,\n",
       "                                                        max_features=20000,\n",
       "                                                        min_df=2,\n",
       "                                                        ngram_range=(1, 2),\n",
       "                                                        stop_words='english')),\n",
       "                                       ('clf', RandomForestClassifier())]),\n",
       "             n_jobs=-1,\n",
       "             param_grid={'clf__max_depth': (10, 20, None),\n",
       "                         'clf__n_estimators': (100, 500),\n",
       "                         'vect__max_df': (0.7, 1.0),\n",
       "                         'vect__max_features': (5000, 10000, 20000),\n",
       "                         'vect__min_df': (2, 5, 10)},\n",
       "             verbose=1)"
      ]
     },
     "execution_count": 34,
     "metadata": {},
     "output_type": "execute_result"
    }
   ],
   "source": [
    "parameters = {\n",
    "    'vect__max_df': (0.7, 1.0),\n",
    "    'vect__min_df': (2, 5, 10),\n",
    "    'vect__max_features': (5000, 10000, 20000),\n",
    "    'clf__n_estimators': (100, 500),\n",
    "    'clf__max_depth': (10, 20, None)\n",
    "}\n",
    "\n",
    "grid_search = GridSearchCV(RFC_model, parameters, cv=5, n_jobs=-1, verbose=1)\n",
    "grid_search.fit(X_train, y_train)\n",
    "y_pred = RFC_model.predict(X_test)"
   ]
  },
  {
   "cell_type": "code",
   "execution_count": 35,
   "metadata": {},
   "outputs": [
    {
     "name": "stdout",
     "output_type": "stream",
     "text": [
      "Best params: {'clf__max_depth': None, 'clf__n_estimators': 500, 'vect__max_df': 0.7, 'vect__max_features': 5000, 'vect__min_df': 2}\n",
      "Train score: 0.7987, Test score 0.8144\n"
     ]
    }
   ],
   "source": [
    "print(\"Best params: {}\".format(grid_search.best_params_))\n",
    "print('Train score: {}, Test score {}'.format(round(grid_search.best_score_, 4), round(grid_search.best_estimator_.score(X_test, y_test), 4)))"
   ]
  },
  {
   "cell_type": "code",
   "execution_count": 53,
   "metadata": {},
   "outputs": [
    {
     "name": "stdout",
     "output_type": "stream",
     "text": [
      "                   precision    recall  f1-score   support\n",
      "\n",
      "EverythingScience       0.64      0.83      0.72       192\n",
      "       askscience       0.81      0.68      0.74       146\n",
      "      datascience       0.95      0.84      0.89       164\n",
      "explainlikeimfive       1.00      1.00      1.00       198\n",
      "       psychology       0.74      0.68      0.71       173\n",
      "\n",
      "         accuracy                           0.81       873\n",
      "        macro avg       0.83      0.80      0.81       873\n",
      "     weighted avg       0.83      0.81      0.82       873\n",
      "\n"
     ]
    }
   ],
   "source": [
    "from sklearn.metrics import classification_report\n",
    "from sklearn.metrics import accuracy_score, confusion_matrix\n",
    "my_tags = list(encoder.classes_)\n",
    "print(classification_report(y_test, y_pred,target_names=my_tags))"
   ]
  },
  {
   "cell_type": "markdown",
   "metadata": {},
   "source": [
    "### Naive Bayes Classifier for Multinomial Models"
   ]
  },
  {
   "cell_type": "code",
   "execution_count": 54,
   "metadata": {},
   "outputs": [
    {
     "name": "stdout",
     "output_type": "stream",
     "text": [
      "accuracy 0.588774341351661\n",
      "                   precision    recall  f1-score   support\n",
      "\n",
      "EverythingScience       0.62      0.37      0.46       192\n",
      "       askscience       0.71      0.49      0.58       146\n",
      "      datascience       0.78      0.76      0.77       164\n",
      "explainlikeimfive       0.46      0.96      0.63       198\n",
      "       psychology       0.66      0.33      0.44       173\n",
      "\n",
      "         accuracy                           0.59       873\n",
      "        macro avg       0.65      0.58      0.57       873\n",
      "     weighted avg       0.64      0.59      0.57       873\n",
      "\n"
     ]
    }
   ],
   "source": [
    "from sklearn.naive_bayes import MultinomialNB\n",
    "from sklearn.metrics import classification_report\n",
    "from sklearn.metrics import accuracy_score, confusion_matrix\n",
    "\n",
    "pipe = Pipeline([\n",
    "    ('vect', vect),      # TF-IDF Vectorizer\n",
    "    ('clf', MultinomialNB())         # RandomForest Classifier\n",
    "])\n",
    "\n",
    "pipe.fit(X_train, y_train)\n",
    "y_pred = pipe.predict(X_test)\n",
    "\n",
    "print('accuracy %s' % accuracy_score(y_pred, y_test))\n",
    "print(classification_report(y_test, y_pred,target_names=my_tags))"
   ]
  },
  {
   "cell_type": "markdown",
   "metadata": {},
   "source": [
    "### Linear Support Vector Machine"
   ]
  },
  {
   "cell_type": "code",
   "execution_count": 55,
   "metadata": {},
   "outputs": [
    {
     "name": "stdout",
     "output_type": "stream",
     "text": [
      "accuracy 0.7250859106529209\n",
      "                   precision    recall  f1-score   support\n",
      "\n",
      "EverythingScience       0.52      0.78      0.62       192\n",
      "       askscience       0.72      0.60      0.65       146\n",
      "      datascience       0.81      0.83      0.82       164\n",
      "explainlikeimfive       1.00      1.00      1.00       198\n",
      "       psychology       0.63      0.35      0.45       173\n",
      "\n",
      "         accuracy                           0.73       873\n",
      "        macro avg       0.74      0.71      0.71       873\n",
      "     weighted avg       0.74      0.73      0.72       873\n",
      "\n"
     ]
    }
   ],
   "source": [
    "from sklearn.linear_model import SGDClassifier\n",
    "\n",
    "sgd = Pipeline([('vect',vect),\n",
    "                ('clf', SGDClassifier(loss='hinge', penalty='l2',alpha=1e-3, random_state=42, max_iter=5, tol=None)),\n",
    "               ])\n",
    "sgd.fit(X_train, y_train)\n",
    "\n",
    "\n",
    "y_pred = sgd.predict(X_test)\n",
    "\n",
    "print('accuracy %s' % accuracy_score(y_pred, y_test))\n",
    "print(classification_report(y_test, y_pred,target_names=my_tags))"
   ]
  },
  {
   "cell_type": "markdown",
   "metadata": {},
   "source": [
    "### MLP Model"
   ]
  },
  {
   "cell_type": "code",
   "execution_count": 70,
   "metadata": {},
   "outputs": [],
   "source": [
    "def _get_last_layer_units_and_activation(num_classes):\n",
    "    \"\"\"Gets the # units and activation function for the last network layer.\n",
    "\n",
    "    # Arguments\n",
    "        num_classes: int, number of classes.\n",
    "\n",
    "    # Returns\n",
    "        units, activation values.\n",
    "    \"\"\"\n",
    "    if num_classes == 2:\n",
    "        activation = 'sigmoid'\n",
    "        units = 1\n",
    "    else:\n",
    "        activation = 'softmax'\n",
    "        units = num_classes\n",
    "    return units, activation"
   ]
  },
  {
   "cell_type": "code",
   "execution_count": 71,
   "metadata": {},
   "outputs": [],
   "source": [
    "def mlp_model(layers, units, dropout_rate, input_shape, num_classes):\n",
    "    \"\"\"Creates an instance of a multi-layer perceptron model.\n",
    "\n",
    "    # Arguments\n",
    "        layers: int, number of `Dense` layers in the model.\n",
    "        units: int, output dimension of the layers.\n",
    "        dropout_rate: float, percentage of input to drop at Dropout layers.\n",
    "        input_shape: tuple, shape of input to the model.\n",
    "        num_classes: int, number of output classes.\n",
    "\n",
    "    # Returns\n",
    "        An MLP model instance.\n",
    "    \"\"\"\n",
    "    op_units, op_activation = _get_last_layer_units_and_activation(num_classes)\n",
    "    mlp_model = models.Sequential()\n",
    "    mlp_model.add(Dropout(rate=dropout_rate, input_shape=input_shape))\n",
    "\n",
    "    for _ in range(layers-1):\n",
    "        mlp_model.add(Dense(units=units, activation='relu'))\n",
    "        mlp_model.add(Dropout(rate=dropout_rate))\n",
    "\n",
    "    mlp_model.add(Dense(units=op_units, activation=op_activation))\n",
    "    return mlp_model"
   ]
  },
  {
   "cell_type": "code",
   "execution_count": 72,
   "metadata": {},
   "outputs": [],
   "source": [
    "vect.fit(X_train)\n",
    "X_train_tfidf = vect.transform(X_train)\n",
    "X_test_tfidf = vect.transform(X_test)"
   ]
  },
  {
   "cell_type": "code",
   "execution_count": 73,
   "metadata": {},
   "outputs": [
    {
     "name": "stdout",
     "output_type": "stream",
     "text": [
      "Model: \"sequential_2\"\n",
      "_________________________________________________________________\n",
      "Layer (type)                 Output Shape              Param #   \n",
      "=================================================================\n",
      "dropout_3 (Dropout)          (None, 75)                0         \n",
      "_________________________________________________________________\n",
      "dense_3 (Dense)              (None, 5)                 380       \n",
      "_________________________________________________________________\n",
      "dropout_4 (Dropout)          (None, 5)                 0         \n",
      "_________________________________________________________________\n",
      "dense_4 (Dense)              (None, 5)                 30        \n",
      "=================================================================\n",
      "Total params: 410\n",
      "Trainable params: 410\n",
      "Non-trainable params: 0\n",
      "_________________________________________________________________\n"
     ]
    }
   ],
   "source": [
    "from sklearn.metrics import classification_report\n",
    "from sklearn.metrics import accuracy_score, confusion_matrix\n",
    "\n",
    "#creating the model\n",
    "mlp_model = mlp_model(2, 5, 0.02, X_train_tfidf.shape[1:],5)\n",
    "\n",
    "# Compile Model\n",
    "mlp_model.compile(loss='sparse_categorical_crossentropy', optimizer='adam', metrics=['accuracy'])\n",
    "mlp_model.summary()"
   ]
  },
  {
   "cell_type": "code",
   "execution_count": 74,
   "metadata": {},
   "outputs": [
    {
     "name": "stdout",
     "output_type": "stream",
     "text": [
      "Train on 3492 samples, validate on 873 samples\n",
      "Epoch 1/50\n",
      "3492/3492 [==============================] - 1s 306us/sample - loss: 1.6076 - accuracy: 0.2219 - val_loss: 1.5980 - val_accuracy: 0.2990\n",
      "Epoch 2/50\n",
      "3492/3492 [==============================] - 0s 22us/sample - loss: 1.5953 - accuracy: 0.2806 - val_loss: 1.5857 - val_accuracy: 0.3127\n",
      "Epoch 3/50\n",
      "3492/3492 [==============================] - 0s 20us/sample - loss: 1.5822 - accuracy: 0.3007 - val_loss: 1.5718 - val_accuracy: 0.3345\n",
      "Epoch 4/50\n",
      "3492/3492 [==============================] - 0s 23us/sample - loss: 1.5673 - accuracy: 0.3508 - val_loss: 1.5531 - val_accuracy: 0.4559\n",
      "Epoch 5/50\n",
      "3492/3492 [==============================] - 0s 20us/sample - loss: 1.5463 - accuracy: 0.4419 - val_loss: 1.5287 - val_accuracy: 0.4880\n",
      "Epoch 6/50\n",
      "3492/3492 [==============================] - 0s 17us/sample - loss: 1.5188 - accuracy: 0.4714 - val_loss: 1.4974 - val_accuracy: 0.5017\n",
      "Epoch 7/50\n",
      "3492/3492 [==============================] - 0s 15us/sample - loss: 1.4839 - accuracy: 0.5009 - val_loss: 1.4597 - val_accuracy: 0.5315\n",
      "Epoch 8/50\n",
      "3492/3492 [==============================] - 0s 16us/sample - loss: 1.4433 - accuracy: 0.5301 - val_loss: 1.4161 - val_accuracy: 0.5590\n",
      "Epoch 9/50\n",
      "3492/3492 [==============================] - 0s 15us/sample - loss: 1.3975 - accuracy: 0.5467 - val_loss: 1.3688 - val_accuracy: 0.5739\n",
      "Epoch 10/50\n",
      "3492/3492 [==============================] - 0s 17us/sample - loss: 1.3493 - accuracy: 0.5624 - val_loss: 1.3219 - val_accuracy: 0.5911\n",
      "Epoch 11/50\n",
      "3492/3492 [==============================] - 0s 17us/sample - loss: 1.3026 - accuracy: 0.5739 - val_loss: 1.2769 - val_accuracy: 0.6094\n",
      "Epoch 12/50\n",
      "3492/3492 [==============================] - 0s 18us/sample - loss: 1.2593 - accuracy: 0.5934 - val_loss: 1.2335 - val_accuracy: 0.6220\n",
      "Epoch 13/50\n",
      "3492/3492 [==============================] - 0s 19us/sample - loss: 1.2142 - accuracy: 0.6143 - val_loss: 1.1935 - val_accuracy: 0.6426\n",
      "Epoch 14/50\n",
      "3492/3492 [==============================] - 0s 17us/sample - loss: 1.1753 - accuracy: 0.6263 - val_loss: 1.1555 - val_accuracy: 0.6529\n",
      "Epoch 15/50\n",
      "3492/3492 [==============================] - 0s 17us/sample - loss: 1.1348 - accuracy: 0.6475 - val_loss: 1.1201 - val_accuracy: 0.6632\n",
      "Epoch 16/50\n",
      "3492/3492 [==============================] - 0s 17us/sample - loss: 1.1086 - accuracy: 0.6478 - val_loss: 1.0874 - val_accuracy: 0.6712\n",
      "Epoch 17/50\n",
      "3492/3492 [==============================] - 0s 19us/sample - loss: 1.0707 - accuracy: 0.6572 - val_loss: 1.0568 - val_accuracy: 0.6770\n",
      "Epoch 18/50\n",
      "3492/3492 [==============================] - 0s 20us/sample - loss: 1.0431 - accuracy: 0.6584 - val_loss: 1.0284 - val_accuracy: 0.6827\n",
      "Epoch 19/50\n",
      "3492/3492 [==============================] - 0s 18us/sample - loss: 1.0190 - accuracy: 0.6678 - val_loss: 1.0016 - val_accuracy: 0.6953\n",
      "Epoch 20/50\n",
      "3492/3492 [==============================] - ETA: 0s - loss: 1.0633 - accuracy: 0.62 - 0s 17us/sample - loss: 0.9896 - accuracy: 0.6790 - val_loss: 0.9772 - val_accuracy: 0.7022\n",
      "Epoch 21/50\n",
      "3492/3492 [==============================] - 0s 17us/sample - loss: 0.9669 - accuracy: 0.6821 - val_loss: 0.9542 - val_accuracy: 0.7022\n",
      "Epoch 22/50\n",
      "3492/3492 [==============================] - 0s 19us/sample - loss: 0.9420 - accuracy: 0.6841 - val_loss: 0.9335 - val_accuracy: 0.7068\n",
      "Epoch 23/50\n",
      "3492/3492 [==============================] - 0s 21us/sample - loss: 0.9185 - accuracy: 0.6919 - val_loss: 0.9143 - val_accuracy: 0.7079\n",
      "Epoch 24/50\n",
      "3492/3492 [==============================] - 0s 23us/sample - loss: 0.9045 - accuracy: 0.6964 - val_loss: 0.8968 - val_accuracy: 0.7125\n",
      "Epoch 25/50\n",
      "3492/3492 [==============================] - 0s 22us/sample - loss: 0.8872 - accuracy: 0.6976 - val_loss: 0.8802 - val_accuracy: 0.7068\n",
      "Epoch 26/50\n",
      "3492/3492 [==============================] - 0s 21us/sample - loss: 0.8743 - accuracy: 0.6942 - val_loss: 0.8657 - val_accuracy: 0.7079\n",
      "Epoch 27/50\n",
      "3492/3492 [==============================] - 0s 21us/sample - loss: 0.8547 - accuracy: 0.6939 - val_loss: 0.8524 - val_accuracy: 0.7056\n",
      "Epoch 28/50\n",
      "3492/3492 [==============================] - 0s 20us/sample - loss: 0.8425 - accuracy: 0.6993 - val_loss: 0.8397 - val_accuracy: 0.7090\n",
      "Epoch 29/50\n",
      "3492/3492 [==============================] - 0s 21us/sample - loss: 0.8371 - accuracy: 0.7010 - val_loss: 0.8281 - val_accuracy: 0.7113\n",
      "Epoch 30/50\n",
      "3492/3492 [==============================] - 0s 19us/sample - loss: 0.8170 - accuracy: 0.7059 - val_loss: 0.8179 - val_accuracy: 0.7136\n",
      "Epoch 31/50\n",
      "3492/3492 [==============================] - 0s 19us/sample - loss: 0.8101 - accuracy: 0.7025 - val_loss: 0.8082 - val_accuracy: 0.7171\n",
      "Epoch 32/50\n",
      "3492/3492 [==============================] - 0s 22us/sample - loss: 0.8074 - accuracy: 0.6990 - val_loss: 0.7994 - val_accuracy: 0.7216\n",
      "Epoch 33/50\n",
      "3492/3492 [==============================] - 0s 19us/sample - loss: 0.7952 - accuracy: 0.7070 - val_loss: 0.7912 - val_accuracy: 0.7194\n",
      "Epoch 34/50\n",
      "3492/3492 [==============================] - 0s 18us/sample - loss: 0.7914 - accuracy: 0.7045 - val_loss: 0.7834 - val_accuracy: 0.7216\n",
      "Epoch 35/50\n",
      "3492/3492 [==============================] - 0s 16us/sample - loss: 0.7853 - accuracy: 0.7099 - val_loss: 0.7764 - val_accuracy: 0.7216\n",
      "Epoch 36/50\n",
      "3492/3492 [==============================] - 0s 18us/sample - loss: 0.7802 - accuracy: 0.7062 - val_loss: 0.7703 - val_accuracy: 0.7239\n",
      "Epoch 37/50\n",
      "3492/3492 [==============================] - 0s 17us/sample - loss: 0.7639 - accuracy: 0.7151 - val_loss: 0.7641 - val_accuracy: 0.7251\n",
      "Epoch 38/50\n",
      "3492/3492 [==============================] - 0s 19us/sample - loss: 0.7563 - accuracy: 0.7153 - val_loss: 0.7587 - val_accuracy: 0.7251\n",
      "Epoch 39/50\n",
      "3492/3492 [==============================] - 0s 20us/sample - loss: 0.7618 - accuracy: 0.7113 - val_loss: 0.7534 - val_accuracy: 0.7274\n",
      "Epoch 40/50\n",
      "3492/3492 [==============================] - 0s 19us/sample - loss: 0.7490 - accuracy: 0.7142 - val_loss: 0.7482 - val_accuracy: 0.7262\n",
      "Epoch 41/50\n",
      "3492/3492 [==============================] - 0s 21us/sample - loss: 0.7482 - accuracy: 0.7139 - val_loss: 0.7437 - val_accuracy: 0.7274\n",
      "Epoch 42/50\n",
      "3492/3492 [==============================] - 0s 19us/sample - loss: 0.7508 - accuracy: 0.7113 - val_loss: 0.7394 - val_accuracy: 0.7274\n",
      "Epoch 43/50\n",
      "3492/3492 [==============================] - 0s 20us/sample - loss: 0.7371 - accuracy: 0.7148 - val_loss: 0.7356 - val_accuracy: 0.7262\n",
      "Epoch 44/50\n",
      "3492/3492 [==============================] - 0s 19us/sample - loss: 0.7392 - accuracy: 0.7128 - val_loss: 0.7317 - val_accuracy: 0.7285\n",
      "Epoch 45/50\n",
      "3492/3492 [==============================] - 0s 19us/sample - loss: 0.7313 - accuracy: 0.7168 - val_loss: 0.7283 - val_accuracy: 0.7274\n",
      "Epoch 46/50\n",
      "3492/3492 [==============================] - 0s 19us/sample - loss: 0.7332 - accuracy: 0.7085 - val_loss: 0.7247 - val_accuracy: 0.7262\n",
      "Epoch 47/50\n",
      "3492/3492 [==============================] - 0s 19us/sample - loss: 0.7373 - accuracy: 0.7096 - val_loss: 0.7214 - val_accuracy: 0.7274\n",
      "Epoch 48/50\n",
      "3492/3492 [==============================] - 0s 18us/sample - loss: 0.7242 - accuracy: 0.7122 - val_loss: 0.7188 - val_accuracy: 0.7262\n",
      "Epoch 49/50\n",
      "3492/3492 [==============================] - 0s 18us/sample - loss: 0.7220 - accuracy: 0.7145 - val_loss: 0.7159 - val_accuracy: 0.7274\n",
      "Epoch 50/50\n",
      "3492/3492 [==============================] - 0s 18us/sample - loss: 0.7172 - accuracy: 0.7168 - val_loss: 0.7130 - val_accuracy: 0.7274\n"
     ]
    }
   ],
   "source": [
    "# Train and validate model\n",
    "history = mlp_model.fit(X_train_tfidf.toarray(), y_train, epochs=50, \n",
    "                         validation_data=(X_test_tfidf.toarray(),y_test),\n",
    "                         batch_size= 128,\n",
    "                         callbacks=[tf.keras.callbacks.EarlyStopping(\n",
    "                         monitor='val_loss',\n",
    "                         verbose=2,\n",
    "                            patience=2)])"
   ]
  },
  {
   "cell_type": "code",
   "execution_count": 75,
   "metadata": {},
   "outputs": [
    {
     "name": "stdout",
     "output_type": "stream",
     "text": [
      "Training Accuracy: 0.7354\n",
      "Testing Accuracy:  0.7274\n"
     ]
    }
   ],
   "source": [
    "loss, accuracy = mlp_model.evaluate(X_train_tfidf.toarray(), y_train, verbose=False)\n",
    "print(\"Training Accuracy: {:.4f}\".format(accuracy))\n",
    "loss, accuracy = mlp_model.evaluate(X_test_tfidf.toarray(), y_test, verbose=False)\n",
    "print(\"Testing Accuracy:  {:.4f}\".format(accuracy))"
   ]
  },
  {
   "cell_type": "code",
   "execution_count": 76,
   "metadata": {},
   "outputs": [],
   "source": [
    "import matplotlib.pyplot as plt\n",
    "plt.style.use('ggplot')\n",
    "\n",
    "def plot_history(history):\n",
    "    acc = history.history['accuracy']\n",
    "    val_acc = history.history['val_accuracy']\n",
    "    loss = history.history['loss']\n",
    "    val_loss = history.history['val_loss']\n",
    "    x = range(1, len(acc) + 1)\n",
    "\n",
    "    plt.figure(figsize=(12, 5))\n",
    "    plt.subplot(1, 2, 1)\n",
    "    plt.plot(x, acc, 'b', label='Training acc')\n",
    "    plt.plot(x, val_acc, 'r', label='Validation acc')\n",
    "    plt.title('Training and validation accuracy')\n",
    "    plt.legend()\n",
    "    plt.subplot(1, 2, 2)\n",
    "    plt.plot(x, loss, 'b', label='Training loss')\n",
    "    plt.plot(x, val_loss, 'r', label='Validation loss')\n",
    "    plt.title('Training and validation loss')\n",
    "    plt.legend()\n",
    "    "
   ]
  },
  {
   "cell_type": "code",
   "execution_count": 77,
   "metadata": {},
   "outputs": [
    {
     "data": {
      "image/png": "[encoded data removed]",
      "text/plain": [
       "<Figure size 864x360 with 2 Axes>"
      ]
     },
     "metadata": {},
     "output_type": "display_data"
    }
   ],
   "source": [
    "plot_history(history)"
   ]
  },
  {
   "cell_type": "markdown",
   "metadata": {},
   "source": [
    "### Searching for the the best Architecture of the model using Kerastuner"
   ]
  },
  {
   "cell_type": "code",
   "execution_count": 78,
   "metadata": {},
   "outputs": [],
   "source": [
    "from tensorflow import keras\n",
    "from tensorflow.keras.optimizers import Adam\n",
    "from kerastuner.tuners import RandomSearch\n",
    "\n",
    "\"\"\"\n",
    "This model Tunes:\n",
    "- Number of Hidden Layers in the network\n",
    "- Number of Neurons in each Hidden Layer\n",
    "- Learning Rate in Adam\n",
    "\n",
    "\"\"\"\n",
    "\n",
    "def build_model(hp):\n",
    "    model = keras.Sequential()\n",
    "    for i in range(hp.Int('num_layers', 2, 10)):\n",
    "        model.add(Dense(units=hp.Int('units_' + str(i), \n",
    "                                     min_value=16,\n",
    "                                     max_value=256,\n",
    "                                     step=32),\n",
    "                        activation='relu'))\n",
    "    model.add(Dense(5, activation='softmax'))\n",
    "    model.compile(optimizer=Adam(hp.Choice('learning_rate', [1e-2, 1e-3, 1e-4])),\n",
    "        loss='sparse_categorical_crossentropy',\n",
    "        metrics=['accuracy'])\n",
    "    return model"
   ]
  },
  {
   "cell_type": "code",
   "execution_count": 79,
   "metadata": {},
   "outputs": [
    {
     "name": "stdout",
     "output_type": "stream",
     "text": [
      "INFO:tensorflow:Reloading Oracle from existing project my_dir\\Subreddit\\oracle.json\n",
      "INFO:tensorflow:Reloading Tuner from my_dir\\Subreddit\\tuner0.json\n"
     ]
    }
   ],
   "source": [
    "tuner = RandomSearch(\n",
    "    build_model,\n",
    "    objective='val_accuracy',\n",
    "    max_trials=10,\n",
    "    executions_per_trial=3,\n",
    "    directory='my_dir',\n",
    "    project_name='Subreddit')"
   ]
  },
  {
   "cell_type": "code",
   "execution_count": 80,
   "metadata": {},
   "outputs": [
    {
     "name": "stdout",
     "output_type": "stream",
     "text": [
      "INFO:tensorflow:Oracle triggered exit\n"
     ]
    }
   ],
   "source": [
    "tuner.search(X_train_tfidf.toarray(), y_train,\n",
    "             epochs=5,\n",
    "             verbose=False,\n",
    "             validation_data=(X_test_tfidf.toarray(), y_test))"
   ]
  },
  {
   "cell_type": "code",
   "execution_count": 81,
   "metadata": {},
   "outputs": [
    {
     "data": {
      "text/html": [
       "<span style=\"color:#4527A0\"><h1 style=\"font-size:18px\">Results summary</h1></span>"
      ],
      "text/plain": [
       "<IPython.core.display.HTML object>"
      ]
     },
     "metadata": {},
     "output_type": "display_data"
    },
    {
     "data": {
      "text/html": [
       "<span style=\"color:cyan\"> |-Results in my_dir\\Subreddit</span>"
      ],
      "text/plain": [
       "<IPython.core.display.HTML object>"
      ]
     },
     "metadata": {},
     "output_type": "display_data"
    },
    {
     "data": {
      "text/html": [
       "<span style=\"color:cyan\"> |-Showing 10 best trials</span>"
      ],
      "text/plain": [
       "<IPython.core.display.HTML object>"
      ]
     },
     "metadata": {},
     "output_type": "display_data"
    },
    {
     "data": {
      "text/html": [
       "<span style=\"color:cyan\"> |-Objective(name='val_accuracy', direction='max')</span>"
      ],
      "text/plain": [
       "<IPython.core.display.HTML object>"
      ]
     },
     "metadata": {},
     "output_type": "display_data"
    },
    {
     "data": {
      "text/html": [
       "<span style=\"color:#4527A0\"><h1 style=\"font-size:18px\">Trial summary</h1></span>"
      ],
      "text/plain": [
       "<IPython.core.display.HTML object>"
      ]
     },
     "metadata": {},
     "output_type": "display_data"
    },
    {
     "data": {
      "text/html": [
       "<span style=\"color:cyan\"> |-Trial ID: 5767d2470b5c2dd0aafacabf4ada203f</span>"
      ],
      "text/plain": [
       "<IPython.core.display.HTML object>"
      ]
     },
     "metadata": {},
     "output_type": "display_data"
    },
    {
     "data": {
      "text/html": [
       "<span style=\"color:cyan\"> |-Score: 0.7376861572265625</span>"
      ],
      "text/plain": [
       "<IPython.core.display.HTML object>"
      ]
     },
     "metadata": {},
     "output_type": "display_data"
    },
    {
     "data": {
      "text/html": [
       "<span style=\"color:cyan\"> |-Best step: 0</span>"
      ],
      "text/plain": [
       "<IPython.core.display.HTML object>"
      ]
     },
     "metadata": {},
     "output_type": "display_data"
    },
    {
     "data": {
      "text/html": [
       "<span style=\"color:#7E57C2\"><h2 style=\"font-size:16px\">Hyperparameters:</h2></span>"
      ],
      "text/plain": [
       "<IPython.core.display.HTML object>"
      ]
     },
     "metadata": {},
     "output_type": "display_data"
    },
    {
     "data": {
      "text/html": [
       "<span style=\"color:cyan\"> |-learning_rate: 0.001</span>"
      ],
      "text/plain": [
       "<IPython.core.display.HTML object>"
      ]
     },
     "metadata": {},
     "output_type": "display_data"
    },
    {
     "data": {
      "text/html": [
       "<span style=\"color:blue\"> |-num_layers: 2</span>"
      ],
      "text/plain": [
       "<IPython.core.display.HTML object>"
      ]
     },
     "metadata": {},
     "output_type": "display_data"
    },
    {
     "data": {
      "text/html": [
       "<span style=\"color:cyan\"> |-units_0: 112</span>"
      ],
      "text/plain": [
       "<IPython.core.display.HTML object>"
      ]
     },
     "metadata": {},
     "output_type": "display_data"
    },
    {
     "data": {
      "text/html": [
       "<span style=\"color:blue\"> |-units_1: 80</span>"
      ],
      "text/plain": [
       "<IPython.core.display.HTML object>"
      ]
     },
     "metadata": {},
     "output_type": "display_data"
    },
    {
     "data": {
      "text/html": [
       "<span style=\"color:cyan\"> |-units_2: 176</span>"
      ],
      "text/plain": [
       "<IPython.core.display.HTML object>"
      ]
     },
     "metadata": {},
     "output_type": "display_data"
    },
    {
     "data": {
      "text/html": [
       "<span style=\"color:blue\"> |-units_3: 112</span>"
      ],
      "text/plain": [
       "<IPython.core.display.HTML object>"
      ]
     },
     "metadata": {},
     "output_type": "display_data"
    },
    {
     "data": {
      "text/html": [
       "<span style=\"color:cyan\"> |-units_4: 80</span>"
      ],
      "text/plain": [
       "<IPython.core.display.HTML object>"
      ]
     },
     "metadata": {},
     "output_type": "display_data"
    },
    {
     "data": {
      "text/html": [
       "<span style=\"color:blue\"> |-units_5: 208</span>"
      ],
      "text/plain": [
       "<IPython.core.display.HTML object>"
      ]
     },
     "metadata": {},
     "output_type": "display_data"
    },
    {
     "data": {
      "text/html": [
       "<span style=\"color:cyan\"> |-units_6: 176</span>"
      ],
      "text/plain": [
       "<IPython.core.display.HTML object>"
      ]
     },
     "metadata": {},
     "output_type": "display_data"
    },
    {
     "data": {
      "text/html": [
       "<span style=\"color:blue\"> |-units_7: 176</span>"
      ],
      "text/plain": [
       "<IPython.core.display.HTML object>"
      ]
     },
     "metadata": {},
     "output_type": "display_data"
    },
    {
     "data": {
      "text/html": [
       "<span style=\"color:cyan\"> |-units_8: 176</span>"
      ],
      "text/plain": [
       "<IPython.core.display.HTML object>"
      ]
     },
     "metadata": {},
     "output_type": "display_data"
    },
    {
     "data": {
      "text/html": [
       "<span style=\"color:blue\"> |-units_9: 16</span>"
      ],
      "text/plain": [
       "<IPython.core.display.HTML object>"
      ]
     },
     "metadata": {},
     "output_type": "display_data"
    },
    {
     "data": {
      "text/html": [
       "<span style=\"color:#4527A0\"><h1 style=\"font-size:18px\">Trial summary</h1></span>"
      ],
      "text/plain": [
       "<IPython.core.display.HTML object>"
      ]
     },
     "metadata": {},
     "output_type": "display_data"
    },
    {
     "data": {
      "text/html": [
       "<span style=\"color:cyan\"> |-Trial ID: 26888afbd12a4bcbf7b5fd303c39dbbc</span>"
      ],
      "text/plain": [
       "<IPython.core.display.HTML object>"
      ]
     },
     "metadata": {},
     "output_type": "display_data"
    },
    {
     "data": {
      "text/html": [
       "<span style=\"color:cyan\"> |-Score: 0.7350133061408997</span>"
      ],
      "text/plain": [
       "<IPython.core.display.HTML object>"
      ]
     },
     "metadata": {},
     "output_type": "display_data"
    },
    {
     "data": {
      "text/html": [
       "<span style=\"color:cyan\"> |-Best step: 0</span>"
      ],
      "text/plain": [
       "<IPython.core.display.HTML object>"
      ]
     },
     "metadata": {},
     "output_type": "display_data"
    },
    {
     "data": {
      "text/html": [
       "<span style=\"color:#7E57C2\"><h2 style=\"font-size:16px\">Hyperparameters:</h2></span>"
      ],
      "text/plain": [
       "<IPython.core.display.HTML object>"
      ]
     },
     "metadata": {},
     "output_type": "display_data"
    },
    {
     "data": {
      "text/html": [
       "<span style=\"color:cyan\"> |-learning_rate: 0.001</span>"
      ],
      "text/plain": [
       "<IPython.core.display.HTML object>"
      ]
     },
     "metadata": {},
     "output_type": "display_data"
    },
    {
     "data": {
      "text/html": [
       "<span style=\"color:blue\"> |-num_layers: 3</span>"
      ],
      "text/plain": [
       "<IPython.core.display.HTML object>"
      ]
     },
     "metadata": {},
     "output_type": "display_data"
    },
    {
     "data": {
      "text/html": [
       "<span style=\"color:cyan\"> |-units_0: 208</span>"
      ],
      "text/plain": [
       "<IPython.core.display.HTML object>"
      ]
     },
     "metadata": {},
     "output_type": "display_data"
    },
    {
     "data": {
      "text/html": [
       "<span style=\"color:blue\"> |-units_1: 80</span>"
      ],
      "text/plain": [
       "<IPython.core.display.HTML object>"
      ]
     },
     "metadata": {},
     "output_type": "display_data"
    },
    {
     "data": {
      "text/html": [
       "<span style=\"color:cyan\"> |-units_2: 208</span>"
      ],
      "text/plain": [
       "<IPython.core.display.HTML object>"
      ]
     },
     "metadata": {},
     "output_type": "display_data"
    },
    {
     "data": {
      "text/html": [
       "<span style=\"color:blue\"> |-units_3: 112</span>"
      ],
      "text/plain": [
       "<IPython.core.display.HTML object>"
      ]
     },
     "metadata": {},
     "output_type": "display_data"
    },
    {
     "data": {
      "text/html": [
       "<span style=\"color:cyan\"> |-units_4: 80</span>"
      ],
      "text/plain": [
       "<IPython.core.display.HTML object>"
      ]
     },
     "metadata": {},
     "output_type": "display_data"
    },
    {
     "data": {
      "text/html": [
       "<span style=\"color:blue\"> |-units_5: 208</span>"
      ],
      "text/plain": [
       "<IPython.core.display.HTML object>"
      ]
     },
     "metadata": {},
     "output_type": "display_data"
    },
    {
     "data": {
      "text/html": [
       "<span style=\"color:cyan\"> |-units_6: 112</span>"
      ],
      "text/plain": [
       "<IPython.core.display.HTML object>"
      ]
     },
     "metadata": {},
     "output_type": "display_data"
    },
    {
     "data": {
      "text/html": [
       "<span style=\"color:blue\"> |-units_7: 48</span>"
      ],
      "text/plain": [
       "<IPython.core.display.HTML object>"
      ]
     },
     "metadata": {},
     "output_type": "display_data"
    },
    {
     "data": {
      "text/html": [
       "<span style=\"color:cyan\"> |-units_8: 208</span>"
      ],
      "text/plain": [
       "<IPython.core.display.HTML object>"
      ]
     },
     "metadata": {},
     "output_type": "display_data"
    },
    {
     "data": {
      "text/html": [
       "<span style=\"color:blue\"> |-units_9: 240</span>"
      ],
      "text/plain": [
       "<IPython.core.display.HTML object>"
      ]
     },
     "metadata": {},
     "output_type": "display_data"
    },
    {
     "data": {
      "text/html": [
       "<span style=\"color:#4527A0\"><h1 style=\"font-size:18px\">Trial summary</h1></span>"
      ],
      "text/plain": [
       "<IPython.core.display.HTML object>"
      ]
     },
     "metadata": {},
     "output_type": "display_data"
    },
    {
     "data": {
      "text/html": [
       "<span style=\"color:cyan\"> |-Trial ID: 2e987f86fd38bc2d54f3a0b2885fa016</span>"
      ],
      "text/plain": [
       "<IPython.core.display.HTML object>"
      ]
     },
     "metadata": {},
     "output_type": "display_data"
    },
    {
     "data": {
      "text/html": [
       "<span style=\"color:cyan\"> |-Score: 0.7300496101379395</span>"
      ],
      "text/plain": [
       "<IPython.core.display.HTML object>"
      ]
     },
     "metadata": {},
     "output_type": "display_data"
    },
    {
     "data": {
      "text/html": [
       "<span style=\"color:cyan\"> |-Best step: 0</span>"
      ],
      "text/plain": [
       "<IPython.core.display.HTML object>"
      ]
     },
     "metadata": {},
     "output_type": "display_data"
    },
    {
     "data": {
      "text/html": [
       "<span style=\"color:#7E57C2\"><h2 style=\"font-size:16px\">Hyperparameters:</h2></span>"
      ],
      "text/plain": [
       "<IPython.core.display.HTML object>"
      ]
     },
     "metadata": {},
     "output_type": "display_data"
    },
    {
     "data": {
      "text/html": [
       "<span style=\"color:cyan\"> |-learning_rate: 0.01</span>"
      ],
      "text/plain": [
       "<IPython.core.display.HTML object>"
      ]
     },
     "metadata": {},
     "output_type": "display_data"
    },
    {
     "data": {
      "text/html": [
       "<span style=\"color:blue\"> |-num_layers: 3</span>"
      ],
      "text/plain": [
       "<IPython.core.display.HTML object>"
      ]
     },
     "metadata": {},
     "output_type": "display_data"
    },
    {
     "data": {
      "text/html": [
       "<span style=\"color:cyan\"> |-units_0: 48</span>"
      ],
      "text/plain": [
       "<IPython.core.display.HTML object>"
      ]
     },
     "metadata": {},
     "output_type": "display_data"
    },
    {
     "data": {
      "text/html": [
       "<span style=\"color:blue\"> |-units_1: 80</span>"
      ],
      "text/plain": [
       "<IPython.core.display.HTML object>"
      ]
     },
     "metadata": {},
     "output_type": "display_data"
    },
    {
     "data": {
      "text/html": [
       "<span style=\"color:cyan\"> |-units_2: 112</span>"
      ],
      "text/plain": [
       "<IPython.core.display.HTML object>"
      ]
     },
     "metadata": {},
     "output_type": "display_data"
    },
    {
     "data": {
      "text/html": [
       "<span style=\"color:blue\"> |-units_3: 208</span>"
      ],
      "text/plain": [
       "<IPython.core.display.HTML object>"
      ]
     },
     "metadata": {},
     "output_type": "display_data"
    },
    {
     "data": {
      "text/html": [
       "<span style=\"color:cyan\"> |-units_4: 48</span>"
      ],
      "text/plain": [
       "<IPython.core.display.HTML object>"
      ]
     },
     "metadata": {},
     "output_type": "display_data"
    },
    {
     "data": {
      "text/html": [
       "<span style=\"color:blue\"> |-units_5: 144</span>"
      ],
      "text/plain": [
       "<IPython.core.display.HTML object>"
      ]
     },
     "metadata": {},
     "output_type": "display_data"
    },
    {
     "data": {
      "text/html": [
       "<span style=\"color:cyan\"> |-units_6: 176</span>"
      ],
      "text/plain": [
       "<IPython.core.display.HTML object>"
      ]
     },
     "metadata": {},
     "output_type": "display_data"
    },
    {
     "data": {
      "text/html": [
       "<span style=\"color:blue\"> |-units_7: 144</span>"
      ],
      "text/plain": [
       "<IPython.core.display.HTML object>"
      ]
     },
     "metadata": {},
     "output_type": "display_data"
    },
    {
     "data": {
      "text/html": [
       "<span style=\"color:cyan\"> |-units_8: 80</span>"
      ],
      "text/plain": [
       "<IPython.core.display.HTML object>"
      ]
     },
     "metadata": {},
     "output_type": "display_data"
    },
    {
     "data": {
      "text/html": [
       "<span style=\"color:blue\"> |-units_9: 240</span>"
      ],
      "text/plain": [
       "<IPython.core.display.HTML object>"
      ]
     },
     "metadata": {},
     "output_type": "display_data"
    },
    {
     "data": {
      "text/html": [
       "<span style=\"color:#4527A0\"><h1 style=\"font-size:18px\">Trial summary</h1></span>"
      ],
      "text/plain": [
       "<IPython.core.display.HTML object>"
      ]
     },
     "metadata": {},
     "output_type": "display_data"
    },
    {
     "data": {
      "text/html": [
       "<span style=\"color:cyan\"> |-Trial ID: dc3ea05b6390652f326b18b702752628</span>"
      ],
      "text/plain": [
       "<IPython.core.display.HTML object>"
      ]
     },
     "metadata": {},
     "output_type": "display_data"
    },
    {
     "data": {
      "text/html": [
       "<span style=\"color:cyan\"> |-Score: 0.72203129529953</span>"
      ],
      "text/plain": [
       "<IPython.core.display.HTML object>"
      ]
     },
     "metadata": {},
     "output_type": "display_data"
    },
    {
     "data": {
      "text/html": [
       "<span style=\"color:cyan\"> |-Best step: 0</span>"
      ],
      "text/plain": [
       "<IPython.core.display.HTML object>"
      ]
     },
     "metadata": {},
     "output_type": "display_data"
    },
    {
     "data": {
      "text/html": [
       "<span style=\"color:#7E57C2\"><h2 style=\"font-size:16px\">Hyperparameters:</h2></span>"
      ],
      "text/plain": [
       "<IPython.core.display.HTML object>"
      ]
     },
     "metadata": {},
     "output_type": "display_data"
    },
    {
     "data": {
      "text/html": [
       "<span style=\"color:cyan\"> |-learning_rate: 0.01</span>"
      ],
      "text/plain": [
       "<IPython.core.display.HTML object>"
      ]
     },
     "metadata": {},
     "output_type": "display_data"
    },
    {
     "data": {
      "text/html": [
       "<span style=\"color:blue\"> |-num_layers: 4</span>"
      ],
      "text/plain": [
       "<IPython.core.display.HTML object>"
      ]
     },
     "metadata": {},
     "output_type": "display_data"
    },
    {
     "data": {
      "text/html": [
       "<span style=\"color:cyan\"> |-units_0: 80</span>"
      ],
      "text/plain": [
       "<IPython.core.display.HTML object>"
      ]
     },
     "metadata": {},
     "output_type": "display_data"
    },
    {
     "data": {
      "text/html": [
       "<span style=\"color:blue\"> |-units_1: 208</span>"
      ],
      "text/plain": [
       "<IPython.core.display.HTML object>"
      ]
     },
     "metadata": {},
     "output_type": "display_data"
    },
    {
     "data": {
      "text/html": [
       "<span style=\"color:cyan\"> |-units_2: 16</span>"
      ],
      "text/plain": [
       "<IPython.core.display.HTML object>"
      ]
     },
     "metadata": {},
     "output_type": "display_data"
    },
    {
     "data": {
      "text/html": [
       "<span style=\"color:blue\"> |-units_3: 176</span>"
      ],
      "text/plain": [
       "<IPython.core.display.HTML object>"
      ]
     },
     "metadata": {},
     "output_type": "display_data"
    },
    {
     "data": {
      "text/html": [
       "<span style=\"color:cyan\"> |-units_4: 208</span>"
      ],
      "text/plain": [
       "<IPython.core.display.HTML object>"
      ]
     },
     "metadata": {},
     "output_type": "display_data"
    },
    {
     "data": {
      "text/html": [
       "<span style=\"color:blue\"> |-units_5: 240</span>"
      ],
      "text/plain": [
       "<IPython.core.display.HTML object>"
      ]
     },
     "metadata": {},
     "output_type": "display_data"
    },
    {
     "data": {
      "text/html": [
       "<span style=\"color:cyan\"> |-units_6: 48</span>"
      ],
      "text/plain": [
       "<IPython.core.display.HTML object>"
      ]
     },
     "metadata": {},
     "output_type": "display_data"
    },
    {
     "data": {
      "text/html": [
       "<span style=\"color:blue\"> |-units_7: 144</span>"
      ],
      "text/plain": [
       "<IPython.core.display.HTML object>"
      ]
     },
     "metadata": {},
     "output_type": "display_data"
    },
    {
     "data": {
      "text/html": [
       "<span style=\"color:#4527A0\"><h1 style=\"font-size:18px\">Trial summary</h1></span>"
      ],
      "text/plain": [
       "<IPython.core.display.HTML object>"
      ]
     },
     "metadata": {},
     "output_type": "display_data"
    },
    {
     "data": {
      "text/html": [
       "<span style=\"color:cyan\"> |-Trial ID: ea277802c6d65a4878f1cfaa1eff3b21</span>"
      ],
      "text/plain": [
       "<IPython.core.display.HTML object>"
      ]
     },
     "metadata": {},
     "output_type": "display_data"
    },
    {
     "data": {
      "text/html": [
       "<span style=\"color:cyan\"> |-Score: 0.7166857719421387</span>"
      ],
      "text/plain": [
       "<IPython.core.display.HTML object>"
      ]
     },
     "metadata": {},
     "output_type": "display_data"
    },
    {
     "data": {
      "text/html": [
       "<span style=\"color:cyan\"> |-Best step: 0</span>"
      ],
      "text/plain": [
       "<IPython.core.display.HTML object>"
      ]
     },
     "metadata": {},
     "output_type": "display_data"
    },
    {
     "data": {
      "text/html": [
       "<span style=\"color:#7E57C2\"><h2 style=\"font-size:16px\">Hyperparameters:</h2></span>"
      ],
      "text/plain": [
       "<IPython.core.display.HTML object>"
      ]
     },
     "metadata": {},
     "output_type": "display_data"
    },
    {
     "data": {
      "text/html": [
       "<span style=\"color:cyan\"> |-learning_rate: 0.001</span>"
      ],
      "text/plain": [
       "<IPython.core.display.HTML object>"
      ]
     },
     "metadata": {},
     "output_type": "display_data"
    },
    {
     "data": {
      "text/html": [
       "<span style=\"color:blue\"> |-num_layers: 8</span>"
      ],
      "text/plain": [
       "<IPython.core.display.HTML object>"
      ]
     },
     "metadata": {},
     "output_type": "display_data"
    },
    {
     "data": {
      "text/html": [
       "<span style=\"color:cyan\"> |-units_0: 112</span>"
      ],
      "text/plain": [
       "<IPython.core.display.HTML object>"
      ]
     },
     "metadata": {},
     "output_type": "display_data"
    },
    {
     "data": {
      "text/html": [
       "<span style=\"color:blue\"> |-units_1: 176</span>"
      ],
      "text/plain": [
       "<IPython.core.display.HTML object>"
      ]
     },
     "metadata": {},
     "output_type": "display_data"
    },
    {
     "data": {
      "text/html": [
       "<span style=\"color:cyan\"> |-units_2: 48</span>"
      ],
      "text/plain": [
       "<IPython.core.display.HTML object>"
      ]
     },
     "metadata": {},
     "output_type": "display_data"
    },
    {
     "data": {
      "text/html": [
       "<span style=\"color:blue\"> |-units_3: 208</span>"
      ],
      "text/plain": [
       "<IPython.core.display.HTML object>"
      ]
     },
     "metadata": {},
     "output_type": "display_data"
    },
    {
     "data": {
      "text/html": [
       "<span style=\"color:cyan\"> |-units_4: 176</span>"
      ],
      "text/plain": [
       "<IPython.core.display.HTML object>"
      ]
     },
     "metadata": {},
     "output_type": "display_data"
    },
    {
     "data": {
      "text/html": [
       "<span style=\"color:blue\"> |-units_5: 112</span>"
      ],
      "text/plain": [
       "<IPython.core.display.HTML object>"
      ]
     },
     "metadata": {},
     "output_type": "display_data"
    },
    {
     "data": {
      "text/html": [
       "<span style=\"color:cyan\"> |-units_6: 240</span>"
      ],
      "text/plain": [
       "<IPython.core.display.HTML object>"
      ]
     },
     "metadata": {},
     "output_type": "display_data"
    },
    {
     "data": {
      "text/html": [
       "<span style=\"color:blue\"> |-units_7: 16</span>"
      ],
      "text/plain": [
       "<IPython.core.display.HTML object>"
      ]
     },
     "metadata": {},
     "output_type": "display_data"
    },
    {
     "data": {
      "text/html": [
       "<span style=\"color:#4527A0\"><h1 style=\"font-size:18px\">Trial summary</h1></span>"
      ],
      "text/plain": [
       "<IPython.core.display.HTML object>"
      ]
     },
     "metadata": {},
     "output_type": "display_data"
    },
    {
     "data": {
      "text/html": [
       "<span style=\"color:cyan\"> |-Trial ID: 4f1c06a4b267844f9718a19c8a55569a</span>"
      ],
      "text/plain": [
       "<IPython.core.display.HTML object>"
      ]
     },
     "metadata": {},
     "output_type": "display_data"
    },
    {
     "data": {
      "text/html": [
       "<span style=\"color:cyan\"> |-Score: 0.7136311531066895</span>"
      ],
      "text/plain": [
       "<IPython.core.display.HTML object>"
      ]
     },
     "metadata": {},
     "output_type": "display_data"
    },
    {
     "data": {
      "text/html": [
       "<span style=\"color:cyan\"> |-Best step: 0</span>"
      ],
      "text/plain": [
       "<IPython.core.display.HTML object>"
      ]
     },
     "metadata": {},
     "output_type": "display_data"
    },
    {
     "data": {
      "text/html": [
       "<span style=\"color:#7E57C2\"><h2 style=\"font-size:16px\">Hyperparameters:</h2></span>"
      ],
      "text/plain": [
       "<IPython.core.display.HTML object>"
      ]
     },
     "metadata": {},
     "output_type": "display_data"
    },
    {
     "data": {
      "text/html": [
       "<span style=\"color:cyan\"> |-learning_rate: 0.0001</span>"
      ],
      "text/plain": [
       "<IPython.core.display.HTML object>"
      ]
     },
     "metadata": {},
     "output_type": "display_data"
    },
    {
     "data": {
      "text/html": [
       "<span style=\"color:blue\"> |-num_layers: 5</span>"
      ],
      "text/plain": [
       "<IPython.core.display.HTML object>"
      ]
     },
     "metadata": {},
     "output_type": "display_data"
    },
    {
     "data": {
      "text/html": [
       "<span style=\"color:cyan\"> |-units_0: 240</span>"
      ],
      "text/plain": [
       "<IPython.core.display.HTML object>"
      ]
     },
     "metadata": {},
     "output_type": "display_data"
    },
    {
     "data": {
      "text/html": [
       "<span style=\"color:blue\"> |-units_1: 80</span>"
      ],
      "text/plain": [
       "<IPython.core.display.HTML object>"
      ]
     },
     "metadata": {},
     "output_type": "display_data"
    },
    {
     "data": {
      "text/html": [
       "<span style=\"color:cyan\"> |-units_2: 176</span>"
      ],
      "text/plain": [
       "<IPython.core.display.HTML object>"
      ]
     },
     "metadata": {},
     "output_type": "display_data"
    },
    {
     "data": {
      "text/html": [
       "<span style=\"color:blue\"> |-units_3: 176</span>"
      ],
      "text/plain": [
       "<IPython.core.display.HTML object>"
      ]
     },
     "metadata": {},
     "output_type": "display_data"
    },
    {
     "data": {
      "text/html": [
       "<span style=\"color:cyan\"> |-units_4: 208</span>"
      ],
      "text/plain": [
       "<IPython.core.display.HTML object>"
      ]
     },
     "metadata": {},
     "output_type": "display_data"
    },
    {
     "data": {
      "text/html": [
       "<span style=\"color:blue\"> |-units_5: 144</span>"
      ],
      "text/plain": [
       "<IPython.core.display.HTML object>"
      ]
     },
     "metadata": {},
     "output_type": "display_data"
    },
    {
     "data": {
      "text/html": [
       "<span style=\"color:cyan\"> |-units_6: 48</span>"
      ],
      "text/plain": [
       "<IPython.core.display.HTML object>"
      ]
     },
     "metadata": {},
     "output_type": "display_data"
    },
    {
     "data": {
      "text/html": [
       "<span style=\"color:blue\"> |-units_7: 112</span>"
      ],
      "text/plain": [
       "<IPython.core.display.HTML object>"
      ]
     },
     "metadata": {},
     "output_type": "display_data"
    },
    {
     "data": {
      "text/html": [
       "<span style=\"color:cyan\"> |-units_8: 112</span>"
      ],
      "text/plain": [
       "<IPython.core.display.HTML object>"
      ]
     },
     "metadata": {},
     "output_type": "display_data"
    },
    {
     "data": {
      "text/html": [
       "<span style=\"color:blue\"> |-units_9: 144</span>"
      ],
      "text/plain": [
       "<IPython.core.display.HTML object>"
      ]
     },
     "metadata": {},
     "output_type": "display_data"
    },
    {
     "data": {
      "text/html": [
       "<span style=\"color:#4527A0\"><h1 style=\"font-size:18px\">Trial summary</h1></span>"
      ],
      "text/plain": [
       "<IPython.core.display.HTML object>"
      ]
     },
     "metadata": {},
     "output_type": "display_data"
    },
    {
     "data": {
      "text/html": [
       "<span style=\"color:cyan\"> |-Trial ID: 65647290cf26b9236bde5ac27a9e267d</span>"
      ],
      "text/plain": [
       "<IPython.core.display.HTML object>"
      ]
     },
     "metadata": {},
     "output_type": "display_data"
    },
    {
     "data": {
      "text/html": [
       "<span style=\"color:cyan\"> |-Score: 0.6945398449897766</span>"
      ],
      "text/plain": [
       "<IPython.core.display.HTML object>"
      ]
     },
     "metadata": {},
     "output_type": "display_data"
    },
    {
     "data": {
      "text/html": [
       "<span style=\"color:cyan\"> |-Best step: 0</span>"
      ],
      "text/plain": [
       "<IPython.core.display.HTML object>"
      ]
     },
     "metadata": {},
     "output_type": "display_data"
    },
    {
     "data": {
      "text/html": [
       "<span style=\"color:#7E57C2\"><h2 style=\"font-size:16px\">Hyperparameters:</h2></span>"
      ],
      "text/plain": [
       "<IPython.core.display.HTML object>"
      ]
     },
     "metadata": {},
     "output_type": "display_data"
    },
    {
     "data": {
      "text/html": [
       "<span style=\"color:cyan\"> |-learning_rate: 0.0001</span>"
      ],
      "text/plain": [
       "<IPython.core.display.HTML object>"
      ]
     },
     "metadata": {},
     "output_type": "display_data"
    },
    {
     "data": {
      "text/html": [
       "<span style=\"color:blue\"> |-num_layers: 8</span>"
      ],
      "text/plain": [
       "<IPython.core.display.HTML object>"
      ]
     },
     "metadata": {},
     "output_type": "display_data"
    },
    {
     "data": {
      "text/html": [
       "<span style=\"color:cyan\"> |-units_0: 144</span>"
      ],
      "text/plain": [
       "<IPython.core.display.HTML object>"
      ]
     },
     "metadata": {},
     "output_type": "display_data"
    },
    {
     "data": {
      "text/html": [
       "<span style=\"color:blue\"> |-units_1: 208</span>"
      ],
      "text/plain": [
       "<IPython.core.display.HTML object>"
      ]
     },
     "metadata": {},
     "output_type": "display_data"
    },
    {
     "data": {
      "text/html": [
       "<span style=\"color:cyan\"> |-units_2: 48</span>"
      ],
      "text/plain": [
       "<IPython.core.display.HTML object>"
      ]
     },
     "metadata": {},
     "output_type": "display_data"
    },
    {
     "data": {
      "text/html": [
       "<span style=\"color:blue\"> |-units_3: 176</span>"
      ],
      "text/plain": [
       "<IPython.core.display.HTML object>"
      ]
     },
     "metadata": {},
     "output_type": "display_data"
    },
    {
     "data": {
      "text/html": [
       "<span style=\"color:cyan\"> |-units_4: 240</span>"
      ],
      "text/plain": [
       "<IPython.core.display.HTML object>"
      ]
     },
     "metadata": {},
     "output_type": "display_data"
    },
    {
     "data": {
      "text/html": [
       "<span style=\"color:blue\"> |-units_5: 176</span>"
      ],
      "text/plain": [
       "<IPython.core.display.HTML object>"
      ]
     },
     "metadata": {},
     "output_type": "display_data"
    },
    {
     "data": {
      "text/html": [
       "<span style=\"color:cyan\"> |-units_6: 144</span>"
      ],
      "text/plain": [
       "<IPython.core.display.HTML object>"
      ]
     },
     "metadata": {},
     "output_type": "display_data"
    },
    {
     "data": {
      "text/html": [
       "<span style=\"color:blue\"> |-units_7: 144</span>"
      ],
      "text/plain": [
       "<IPython.core.display.HTML object>"
      ]
     },
     "metadata": {},
     "output_type": "display_data"
    },
    {
     "data": {
      "text/html": [
       "<span style=\"color:#4527A0\"><h1 style=\"font-size:18px\">Trial summary</h1></span>"
      ],
      "text/plain": [
       "<IPython.core.display.HTML object>"
      ]
     },
     "metadata": {},
     "output_type": "display_data"
    },
    {
     "data": {
      "text/html": [
       "<span style=\"color:cyan\"> |-Trial ID: f0181ec81d377292936a5097bab2ced9</span>"
      ],
      "text/plain": [
       "<IPython.core.display.HTML object>"
      ]
     },
     "metadata": {},
     "output_type": "display_data"
    },
    {
     "data": {
      "text/html": [
       "<span style=\"color:cyan\"> |-Score: 0.6830851435661316</span>"
      ],
      "text/plain": [
       "<IPython.core.display.HTML object>"
      ]
     },
     "metadata": {},
     "output_type": "display_data"
    },
    {
     "data": {
      "text/html": [
       "<span style=\"color:cyan\"> |-Best step: 0</span>"
      ],
      "text/plain": [
       "<IPython.core.display.HTML object>"
      ]
     },
     "metadata": {},
     "output_type": "display_data"
    },
    {
     "data": {
      "text/html": [
       "<span style=\"color:#7E57C2\"><h2 style=\"font-size:16px\">Hyperparameters:</h2></span>"
      ],
      "text/plain": [
       "<IPython.core.display.HTML object>"
      ]
     },
     "metadata": {},
     "output_type": "display_data"
    },
    {
     "data": {
      "text/html": [
       "<span style=\"color:cyan\"> |-learning_rate: 0.01</span>"
      ],
      "text/plain": [
       "<IPython.core.display.HTML object>"
      ]
     },
     "metadata": {},
     "output_type": "display_data"
    },
    {
     "data": {
      "text/html": [
       "<span style=\"color:blue\"> |-num_layers: 7</span>"
      ],
      "text/plain": [
       "<IPython.core.display.HTML object>"
      ]
     },
     "metadata": {},
     "output_type": "display_data"
    },
    {
     "data": {
      "text/html": [
       "<span style=\"color:cyan\"> |-units_0: 48</span>"
      ],
      "text/plain": [
       "<IPython.core.display.HTML object>"
      ]
     },
     "metadata": {},
     "output_type": "display_data"
    },
    {
     "data": {
      "text/html": [
       "<span style=\"color:blue\"> |-units_1: 48</span>"
      ],
      "text/plain": [
       "<IPython.core.display.HTML object>"
      ]
     },
     "metadata": {},
     "output_type": "display_data"
    },
    {
     "data": {
      "text/html": [
       "<span style=\"color:cyan\"> |-units_2: 16</span>"
      ],
      "text/plain": [
       "<IPython.core.display.HTML object>"
      ]
     },
     "metadata": {},
     "output_type": "display_data"
    },
    {
     "data": {
      "text/html": [
       "<span style=\"color:blue\"> |-units_3: 208</span>"
      ],
      "text/plain": [
       "<IPython.core.display.HTML object>"
      ]
     },
     "metadata": {},
     "output_type": "display_data"
    },
    {
     "data": {
      "text/html": [
       "<span style=\"color:cyan\"> |-units_4: 48</span>"
      ],
      "text/plain": [
       "<IPython.core.display.HTML object>"
      ]
     },
     "metadata": {},
     "output_type": "display_data"
    },
    {
     "data": {
      "text/html": [
       "<span style=\"color:blue\"> |-units_5: 48</span>"
      ],
      "text/plain": [
       "<IPython.core.display.HTML object>"
      ]
     },
     "metadata": {},
     "output_type": "display_data"
    },
    {
     "data": {
      "text/html": [
       "<span style=\"color:cyan\"> |-units_6: 240</span>"
      ],
      "text/plain": [
       "<IPython.core.display.HTML object>"
      ]
     },
     "metadata": {},
     "output_type": "display_data"
    },
    {
     "data": {
      "text/html": [
       "<span style=\"color:blue\"> |-units_7: 144</span>"
      ],
      "text/plain": [
       "<IPython.core.display.HTML object>"
      ]
     },
     "metadata": {},
     "output_type": "display_data"
    },
    {
     "data": {
      "text/html": [
       "<span style=\"color:cyan\"> |-units_8: 240</span>"
      ],
      "text/plain": [
       "<IPython.core.display.HTML object>"
      ]
     },
     "metadata": {},
     "output_type": "display_data"
    },
    {
     "data": {
      "text/html": [
       "<span style=\"color:blue\"> |-units_9: 80</span>"
      ],
      "text/plain": [
       "<IPython.core.display.HTML object>"
      ]
     },
     "metadata": {},
     "output_type": "display_data"
    },
    {
     "data": {
      "text/html": [
       "<span style=\"color:#4527A0\"><h1 style=\"font-size:18px\">Trial summary</h1></span>"
      ],
      "text/plain": [
       "<IPython.core.display.HTML object>"
      ]
     },
     "metadata": {},
     "output_type": "display_data"
    },
    {
     "data": {
      "text/html": [
       "<span style=\"color:cyan\"> |-Trial ID: 498ecfcc9e4100f3a57df63cfad9c2bc</span>"
      ],
      "text/plain": [
       "<IPython.core.display.HTML object>"
      ]
     },
     "metadata": {},
     "output_type": "display_data"
    },
    {
     "data": {
      "text/html": [
       "<span style=\"color:cyan\"> |-Score: 0.6632302403450012</span>"
      ],
      "text/plain": [
       "<IPython.core.display.HTML object>"
      ]
     },
     "metadata": {},
     "output_type": "display_data"
    },
    {
     "data": {
      "text/html": [
       "<span style=\"color:cyan\"> |-Best step: 0</span>"
      ],
      "text/plain": [
       "<IPython.core.display.HTML object>"
      ]
     },
     "metadata": {},
     "output_type": "display_data"
    },
    {
     "data": {
      "text/html": [
       "<span style=\"color:#7E57C2\"><h2 style=\"font-size:16px\">Hyperparameters:</h2></span>"
      ],
      "text/plain": [
       "<IPython.core.display.HTML object>"
      ]
     },
     "metadata": {},
     "output_type": "display_data"
    },
    {
     "data": {
      "text/html": [
       "<span style=\"color:cyan\"> |-learning_rate: 0.01</span>"
      ],
      "text/plain": [
       "<IPython.core.display.HTML object>"
      ]
     },
     "metadata": {},
     "output_type": "display_data"
    },
    {
     "data": {
      "text/html": [
       "<span style=\"color:blue\"> |-num_layers: 10</span>"
      ],
      "text/plain": [
       "<IPython.core.display.HTML object>"
      ]
     },
     "metadata": {},
     "output_type": "display_data"
    },
    {
     "data": {
      "text/html": [
       "<span style=\"color:cyan\"> |-units_0: 80</span>"
      ],
      "text/plain": [
       "<IPython.core.display.HTML object>"
      ]
     },
     "metadata": {},
     "output_type": "display_data"
    },
    {
     "data": {
      "text/html": [
       "<span style=\"color:blue\"> |-units_1: 80</span>"
      ],
      "text/plain": [
       "<IPython.core.display.HTML object>"
      ]
     },
     "metadata": {},
     "output_type": "display_data"
    },
    {
     "data": {
      "text/html": [
       "<span style=\"color:cyan\"> |-units_2: 16</span>"
      ],
      "text/plain": [
       "<IPython.core.display.HTML object>"
      ]
     },
     "metadata": {},
     "output_type": "display_data"
    },
    {
     "data": {
      "text/html": [
       "<span style=\"color:blue\"> |-units_3: 112</span>"
      ],
      "text/plain": [
       "<IPython.core.display.HTML object>"
      ]
     },
     "metadata": {},
     "output_type": "display_data"
    },
    {
     "data": {
      "text/html": [
       "<span style=\"color:cyan\"> |-units_4: 112</span>"
      ],
      "text/plain": [
       "<IPython.core.display.HTML object>"
      ]
     },
     "metadata": {},
     "output_type": "display_data"
    },
    {
     "data": {
      "text/html": [
       "<span style=\"color:blue\"> |-units_5: 112</span>"
      ],
      "text/plain": [
       "<IPython.core.display.HTML object>"
      ]
     },
     "metadata": {},
     "output_type": "display_data"
    },
    {
     "data": {
      "text/html": [
       "<span style=\"color:cyan\"> |-units_6: 80</span>"
      ],
      "text/plain": [
       "<IPython.core.display.HTML object>"
      ]
     },
     "metadata": {},
     "output_type": "display_data"
    },
    {
     "data": {
      "text/html": [
       "<span style=\"color:blue\"> |-units_7: 208</span>"
      ],
      "text/plain": [
       "<IPython.core.display.HTML object>"
      ]
     },
     "metadata": {},
     "output_type": "display_data"
    },
    {
     "data": {
      "text/html": [
       "<span style=\"color:cyan\"> |-units_8: 16</span>"
      ],
      "text/plain": [
       "<IPython.core.display.HTML object>"
      ]
     },
     "metadata": {},
     "output_type": "display_data"
    },
    {
     "data": {
      "text/html": [
       "<span style=\"color:blue\"> |-units_9: 16</span>"
      ],
      "text/plain": [
       "<IPython.core.display.HTML object>"
      ]
     },
     "metadata": {},
     "output_type": "display_data"
    },
    {
     "data": {
      "text/html": [
       "<span style=\"color:#4527A0\"><h1 style=\"font-size:18px\">Trial summary</h1></span>"
      ],
      "text/plain": [
       "<IPython.core.display.HTML object>"
      ]
     },
     "metadata": {},
     "output_type": "display_data"
    },
    {
     "data": {
      "text/html": [
       "<span style=\"color:cyan\"> |-Trial ID: c688530b4ba7dcfd929f73a6de4d7ca8</span>"
      ],
      "text/plain": [
       "<IPython.core.display.HTML object>"
      ]
     },
     "metadata": {},
     "output_type": "display_data"
    },
    {
     "data": {
      "text/html": [
       "<span style=\"color:cyan\"> |-Score: 0.5551736950874329</span>"
      ],
      "text/plain": [
       "<IPython.core.display.HTML object>"
      ]
     },
     "metadata": {},
     "output_type": "display_data"
    },
    {
     "data": {
      "text/html": [
       "<span style=\"color:cyan\"> |-Best step: 0</span>"
      ],
      "text/plain": [
       "<IPython.core.display.HTML object>"
      ]
     },
     "metadata": {},
     "output_type": "display_data"
    },
    {
     "data": {
      "text/html": [
       "<span style=\"color:#7E57C2\"><h2 style=\"font-size:16px\">Hyperparameters:</h2></span>"
      ],
      "text/plain": [
       "<IPython.core.display.HTML object>"
      ]
     },
     "metadata": {},
     "output_type": "display_data"
    },
    {
     "data": {
      "text/html": [
       "<span style=\"color:cyan\"> |-learning_rate: 0.0001</span>"
      ],
      "text/plain": [
       "<IPython.core.display.HTML object>"
      ]
     },
     "metadata": {},
     "output_type": "display_data"
    },
    {
     "data": {
      "text/html": [
       "<span style=\"color:blue\"> |-num_layers: 8</span>"
      ],
      "text/plain": [
       "<IPython.core.display.HTML object>"
      ]
     },
     "metadata": {},
     "output_type": "display_data"
    },
    {
     "data": {
      "text/html": [
       "<span style=\"color:cyan\"> |-units_0: 144</span>"
      ],
      "text/plain": [
       "<IPython.core.display.HTML object>"
      ]
     },
     "metadata": {},
     "output_type": "display_data"
    },
    {
     "data": {
      "text/html": [
       "<span style=\"color:blue\"> |-units_1: 144</span>"
      ],
      "text/plain": [
       "<IPython.core.display.HTML object>"
      ]
     },
     "metadata": {},
     "output_type": "display_data"
    },
    {
     "data": {
      "text/html": [
       "<span style=\"color:cyan\"> |-units_2: 16</span>"
      ],
      "text/plain": [
       "<IPython.core.display.HTML object>"
      ]
     },
     "metadata": {},
     "output_type": "display_data"
    },
    {
     "data": {
      "text/html": [
       "<span style=\"color:blue\"> |-units_3: 16</span>"
      ],
      "text/plain": [
       "<IPython.core.display.HTML object>"
      ]
     },
     "metadata": {},
     "output_type": "display_data"
    },
    {
     "data": {
      "text/html": [
       "<span style=\"color:cyan\"> |-units_4: 16</span>"
      ],
      "text/plain": [
       "<IPython.core.display.HTML object>"
      ]
     },
     "metadata": {},
     "output_type": "display_data"
    },
    {
     "data": {
      "text/html": [
       "<span style=\"color:blue\"> |-units_5: 16</span>"
      ],
      "text/plain": [
       "<IPython.core.display.HTML object>"
      ]
     },
     "metadata": {},
     "output_type": "display_data"
    },
    {
     "data": {
      "text/html": [
       "<span style=\"color:cyan\"> |-units_6: 16</span>"
      ],
      "text/plain": [
       "<IPython.core.display.HTML object>"
      ]
     },
     "metadata": {},
     "output_type": "display_data"
    },
    {
     "data": {
      "text/html": [
       "<span style=\"color:blue\"> |-units_7: 16</span>"
      ],
      "text/plain": [
       "<IPython.core.display.HTML object>"
      ]
     },
     "metadata": {},
     "output_type": "display_data"
    }
   ],
   "source": [
    "model = tuner.get_best_models()\n",
    "tuner.results_summary()"
   ]
  },
  {
   "cell_type": "code",
   "execution_count": 51,
   "metadata": {},
   "outputs": [],
   "source": [
    "list_pickle_path = 'model.pkl'\n",
    "# Create an variable to pickle and open it in write mode\n",
    "pickle.dump(grid_search, open(list_pickle_path, 'wb'))"
   ]
  },
  {
   "cell_type": "code",
   "execution_count": 320,
   "metadata": {},
   "outputs": [],
   "source": [
    "list_pickle_path = 'encoder.pkl'\n",
    "# Create an variable to pickle and open it in write mode\n",
    "pickle.dump(encoder, open(list_pickle_path, 'wb'))"
   ]
  },
  {
   "cell_type": "code",
   "execution_count": 329,
   "metadata": {},
   "outputs": [],
   "source": [
    "encoder = pickle.load(open('encoder.pkl', 'rb'))\n",
    "model = pickle.load(open('model.pkl', 'rb'))"
   ]
  },
  {
   "cell_type": "code",
   "execution_count": 336,
   "metadata": {},
   "outputs": [
    {
     "name": "stdout",
     "output_type": "stream",
     "text": [
      "predicted class: ['datascience']\n"
     ]
    }
   ],
   "source": [
    "pred = model.predict([\"i want to learn Data science\"])\n",
    "pred_encoded = encoder.inverse_transform(pred)\n",
    "print (\"predicted class:\", pred_encoded)"
   ]
  }
 ],
 "metadata": {
  "kernelspec": {
   "display_name": "U4-S1-NLP (Python3)",
   "language": "python",
   "name": "u4-s1-nlp"
  },
  "language_info": {
   "codemirror_mode": {
    "name": "ipython",
    "version": 3
   },
   "file_extension": ".py",
   "mimetype": "text/x-python",
   "name": "python",
   "nbconvert_exporter": "python",
   "pygments_lexer": "ipython3",
   "version": "3.7.0"
  }
 },
 "nbformat": 4,
 "nbformat_minor": 4
}
